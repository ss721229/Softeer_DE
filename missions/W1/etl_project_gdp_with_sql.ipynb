{
 "cells": [
  {
   "cell_type": "markdown",
   "id": "2d2b39e8-43b6-4db8-8922-d223ad546ed7",
   "metadata": {},
   "source": [
    "### import, connect db"
   ]
  },
  {
   "cell_type": "code",
   "execution_count": 6,
   "id": "1a6305df-e133-4f1a-a445-ca18a518f541",
   "metadata": {},
   "outputs": [],
   "source": [
    "import sqlite3\n",
    "import json\n",
    "import pandas as pd"
   ]
  },
  {
   "cell_type": "code",
   "execution_count": 7,
   "id": "9494d068-7ad2-4b49-b504-a48a6ef2ba93",
   "metadata": {},
   "outputs": [],
   "source": [
    "db_path = '/Users/admin/Desktop/Softeer_DE/data/World_Economies.db'\n",
    "data_path = '/Users/admin/Desktop/Softeer_DE/data/Countries_by_GDP.json'"
   ]
  },
  {
   "cell_type": "code",
   "execution_count": 4,
   "id": "8c9d05fd-93b5-4e58-b1e0-4c30e2524066",
   "metadata": {},
   "outputs": [],
   "source": [
    "connection = sqlite3.connect(db_path)"
   ]
  },
  {
   "cell_type": "code",
   "execution_count": 5,
   "id": "91e069b0-d891-4865-8dc5-68b6647f7ae1",
   "metadata": {},
   "outputs": [],
   "source": [
    "cursor = connection.cursor()"
   ]
  },
  {
   "cell_type": "markdown",
   "id": "9767e16c-2fcd-42c5-941b-2ad8909adda6",
   "metadata": {},
   "source": [
    "### Load Data"
   ]
  },
  {
   "cell_type": "code",
   "execution_count": 38,
   "id": "861a80c3-2aa4-43a3-9479-47e6712e2ac9",
   "metadata": {},
   "outputs": [],
   "source": [
    "def execute_select_query(query):\n",
    "    sql_command = query\n",
    "    cursor.execute(sql_command)\n",
    "    res = cursor.fetchall()\n",
    "    print('command :',sql_command)\n",
    "    for i in res:\n",
    "        print(i)"
   ]
  },
  {
   "cell_type": "code",
   "execution_count": 34,
   "id": "7f7fd3b3-1e30-40db-ab08-c9f672ef9b0c",
   "metadata": {},
   "outputs": [
    {
     "data": {
      "text/plain": [
       "221"
      ]
     },
     "execution_count": 34,
     "metadata": {},
     "output_type": "execute_result"
    }
   ],
   "source": [
    "data = pd.read_json(data_path)\n",
    "data = data.rename(columns={'IMFForecast':'GDP_USD_billion', 'Country/Territory': 'Country'})\n",
    "data['IMFYear'] = data['IMFYear'].astype('Int64')\n",
    "data.to_sql(\"Countries_by_GDP\", connection, if_exists=\"replace\", index=False)"
   ]
  },
  {
   "cell_type": "code",
   "execution_count": 35,
   "id": "15a0f4ec-4946-4ab1-8cea-7a3f836c6fcf",
   "metadata": {},
   "outputs": [
    {
     "name": "stdout",
     "output_type": "stream",
     "text": [
      "command : SELECT * FROM Countries_by_GDP;\n",
      "('United States', 30507.21, 2025, 'America')\n",
      "('China', 19231.7, 2025, 'Asia')\n",
      "('Germany', 4744.8, 2025, 'Europe')\n",
      "('India', 4187.01, 2025, 'Asia')\n",
      "('Japan', 4186.43, 2025, 'Asia')\n"
     ]
    }
   ],
   "source": [
    "sql_command = \"SELECT * FROM Countries_by_GDP;\"\n",
    "execute_select_query(sql_command)"
   ]
  },
  {
   "cell_type": "markdown",
   "id": "0a7fb8b6-f2c6-47d8-8911-f5b75cee3978",
   "metadata": {},
   "source": [
    "### Print GDP\n",
    "- IMF에서 제공하는 GDP를 기반으로 수행\n",
    "1. GDP가 100B USD 이상인 국가 출력\n",
    "2. Region별 top5 국가의 GDP 평균 출력"
   ]
  },
  {
   "cell_type": "code",
   "execution_count": 39,
   "id": "eb294d17-f3e9-4172-88d6-053fd76bf3ea",
   "metadata": {
    "scrolled": true
   },
   "outputs": [
    {
     "name": "stdout",
     "output_type": "stream",
     "text": [
      "command : SELECT Country FROM Countries_by_GDP WHERE GDP_USD_billion >= 100;\n",
      "('United States',)\n",
      "('China',)\n",
      "('Germany',)\n",
      "('India',)\n",
      "('Japan',)\n",
      "('United Kingdom',)\n",
      "('France',)\n",
      "('Italy',)\n",
      "('Canada',)\n",
      "('Brazil',)\n",
      "('Russia',)\n",
      "('Spain',)\n",
      "('South Korea',)\n",
      "('Australia',)\n",
      "('Mexico',)\n",
      "('Turkey',)\n",
      "('Indonesia',)\n",
      "('Netherlands',)\n",
      "('Saudi Arabia',)\n",
      "('Poland',)\n",
      "('Switzerland',)\n",
      "('Taiwan',)\n",
      "('Belgium',)\n",
      "('Argentina',)\n",
      "('Sweden',)\n",
      "('Ireland',)\n",
      "('Israel',)\n",
      "('Singapore',)\n",
      "('United Arab Emirates',)\n",
      "('Thailand',)\n",
      "('Austria',)\n",
      "('Norway',)\n",
      "('Philippines',)\n",
      "('Vietnam',)\n",
      "('Bangladesh',)\n",
      "('Denmark',)\n",
      "('Malaysia',)\n",
      "('Colombia',)\n",
      "('Hong Kong',)\n",
      "('South Africa',)\n",
      "('Romania',)\n",
      "('Czech Republic',)\n",
      "('Egypt',)\n",
      "('Chile',)\n",
      "('Iran',)\n",
      "('Portugal',)\n",
      "('Finland',)\n",
      "('Peru',)\n",
      "('Kazakhstan',)\n",
      "('Algeria',)\n",
      "('Greece',)\n",
      "('Iraq',)\n",
      "('New Zealand',)\n",
      "('Hungary',)\n",
      "('Qatar',)\n",
      "('Ukraine',)\n",
      "('Nigeria',)\n",
      "('Morocco',)\n",
      "('Kuwait',)\n",
      "('Slovakia',)\n",
      "('Uzbekistan',)\n",
      "('Kenya',)\n",
      "('Dominican Republic',)\n",
      "('Ecuador',)\n",
      "('Puerto Rico',)\n",
      "('Guatemala',)\n",
      "('Ethiopia',)\n",
      "('Bulgaria',)\n",
      "('Angola',)\n",
      "('Venezuela',)\n",
      "('Oman',)\n",
      "('Costa Rica',)\n"
     ]
    }
   ],
   "source": [
    "# GDP가 100B USD 이상인 국가 출력\n",
    "sql_command = \"SELECT Country FROM Countries_by_GDP WHERE GDP_USD_billion >= 100;\"\n",
    "execute_select_query(sql_command)"
   ]
  },
  {
   "cell_type": "code",
   "execution_count": 56,
   "id": "df6f706c-ed8f-4ce1-9179-9f7d40c21c61",
   "metadata": {},
   "outputs": [
    {
     "name": "stdout",
     "output_type": "stream",
     "text": [
      "command : \n",
      "WITH base AS\n",
      "(\n",
      "    SELECT Region, ROW_NUMBER() OVER(PARTITION BY Region ORDER BY GDP_USD_billion DESC) AS rn, GDP_USD_billion\n",
      "    FROM Countries_by_GDP WHERE Region != \"not found\"\n",
      ")\n",
      "SELECT Region, ROUND(AVG(GDP_USD_billion), 2) AS GCP_average FROM base WHERE rn <= 5\n",
      "GROUP BY Region\n",
      "ORDER BY GCP_average DESC;\n",
      "\n",
      "('America', 7446.93)\n",
      "('Asia', 6166.57)\n",
      "('Europe', 3258.9)\n",
      "('Oceania', 412.26)\n",
      "('Africa', 276.13)\n"
     ]
    }
   ],
   "source": [
    "# Region별 top5 국가의 GDP 평균 출력\n",
    "sql_command = \"\"\"\n",
    "WITH base AS\n",
    "(\n",
    "    SELECT Region, ROW_NUMBER() OVER(PARTITION BY Region ORDER BY GDP_USD_billion DESC) AS rn, GDP_USD_billion\n",
    "    FROM Countries_by_GDP WHERE Region != \"not found\"\n",
    ")\n",
    "SELECT Region, ROUND(AVG(GDP_USD_billion), 2) AS GCP_average FROM base WHERE rn <= 5\n",
    "GROUP BY Region\n",
    "ORDER BY GCP_average DESC;\n",
    "\"\"\"\n",
    "execute_select_query(sql_command)"
   ]
  }
 ],
 "metadata": {
  "kernelspec": {
   "display_name": ".venv",
   "language": "python",
   "name": ".venv"
  },
  "language_info": {
   "codemirror_mode": {
    "name": "ipython",
    "version": 3
   },
   "file_extension": ".py",
   "mimetype": "text/x-python",
   "name": "python",
   "nbconvert_exporter": "python",
   "pygments_lexer": "ipython3",
   "version": "3.9.6"
  }
 },
 "nbformat": 4,
 "nbformat_minor": 5
}
