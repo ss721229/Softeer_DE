{
 "cells": [
  {
   "cell_type": "markdown",
   "id": "b6a9a22c-b956-48e1-a32d-04d13eac443d",
   "metadata": {},
   "source": [
    "### import, connect db"
   ]
  },
  {
   "cell_type": "code",
   "execution_count": 2,
   "id": "8ad11c4e-75d7-47ea-b04d-498b7468b4e2",
   "metadata": {},
   "outputs": [],
   "source": [
    "import sqlite3"
   ]
  },
  {
   "cell_type": "code",
   "execution_count": 3,
   "id": "0b94b9d6-ce04-43a7-97d7-8f6e7a4056ad",
   "metadata": {},
   "outputs": [],
   "source": [
    "connection = sqlite3.connect('sqlite.db')"
   ]
  },
  {
   "cell_type": "code",
   "execution_count": 4,
   "id": "8239dfdb-f8ca-4bfe-bb19-25898398a207",
   "metadata": {},
   "outputs": [],
   "source": [
    "cursor = connection.cursor()"
   ]
  },
  {
   "cell_type": "markdown",
   "id": "bf992055-2a67-44b7-b4e2-bfbb69085527",
   "metadata": {
    "jp-MarkdownHeadingCollapsed": true
   },
   "source": [
    "### 테이블 생성"
   ]
  },
  {
   "cell_type": "code",
   "execution_count": 45,
   "id": "a1276901-58ec-46f2-abb3-af05bd6cdea9",
   "metadata": {},
   "outputs": [
    {
     "name": "stdout",
     "output_type": "stream",
     "text": [
      "CSV 파일이 'customers.csv' 이름으로 저장되었습니다.\n"
     ]
    }
   ],
   "source": [
    "import pandas as pd\n",
    "from io import StringIO\n",
    "\n",
    "# 예시용: 고객 데이터 일부 (전체 데이터를 붙여넣으면 됩니다)\n",
    "customer_data_text = \"\"\"\n",
    "CustomerID\tCustomerName\tContactName\tAddress\tCity\tPostalCode\tCountry\n",
    "1 \tAlfreds Futterkiste \tMaria Anders \tObere Str. 57 \tBerlin \t12209 \tGermany \n",
    "2 \tAna Trujillo Emparedados y helados \tAna Trujillo \tAvda. de la Constitución 2222 \tMéxico D.F. \t05021 \tMexico \n",
    "3 \tAntonio Moreno Taquería \tAntonio Moreno \tMataderos 2312 \tMéxico D.F. \t05023 \tMexico \n",
    "4 \tAround the Horn \tThomas Hardy \t120 Hanover Sq. \tLondon \tWA1 1DP \tUK \n",
    "5 \tBerglunds snabbköp \tChristina Berglund \tBerguvsvägen 8 \tLuleå \tS-958 22 \tSweden \n",
    "6 \tBlauer See Delikatessen \tHanna Moos \tForsterstr. 57 \tMannheim \t68306 \tGermany \n",
    "7 \tBlondel père et fils \tFrédérique Citeaux \t24, place Kléber \tStrasbourg \t67000 \tFrance \n",
    "8 \tBólido Comidas preparadas \tMartín Sommer \t Araquil, 67 \tMadrid \t28023 \tSpain \n",
    "9 \tBon app' \tLaurence Lebihans \t12, rue des Bouchers \tMarseille \t13008 \tFrance \n",
    "10 \tBottom-Dollar Marketse \tElizabeth Lincoln \t23 Tsawassen Blvd. \tTsawassen \tT2F 8M4 \tCanada \n",
    "11 \tB's Beverages \tVictoria Ashworth \tFauntleroy Circus \tLondon \tEC2 5NT \tUK \n",
    "12 \tCactus Comidas para llevar \tPatricio Simpson \tCerrito 333 \tBuenos Aires \t1010 \tArgentina \n",
    "13 \tCentro comercial Moctezuma \tFrancisco Chang \tSierras de Granada 9993 \tMéxico D.F. \t05022 \tMexico \n",
    "14 \tChop-suey Chinese \tYang Wang \tHauptstr. 29 \tBern \t3012 \tSwitzerland \n",
    "15 \tComércio Mineiro \tPedro Afonso \tAv. dos Lusíadas, 23 \tSão Paulo \t05432-043 \tBrazil \n",
    "16 \tConsolidated Holdings \tElizabeth Brown \tBerkeley Gardens 12 Brewery  \tLondon \tWX1 6LT \tUK \n",
    "17 \tDrachenblut Delikatessend \tSven Ottlieb \tWalserweg 21 \tAachen \t52066 \tGermany \n",
    "18 \tDu monde entier \tJanine Labrune \t67, rue des Cinquante Otages \tNantes \t44000 \tFrance \n",
    "19 \tEastern Connection \tAnn Devon \t35 King George \tLondon \tWX3 6FW \tUK \n",
    "20 \tErnst Handel \tRoland Mendel \tKirchgasse 6 \tGraz \t8010 \tAustria \n",
    "21 \tFamilia Arquibaldo \tAria Cruz \tRua Orós, 92 \tSão Paulo \t05442-030 \tBrazil \n",
    "22 \tFISSA Fabrica Inter. Salchichas S.A. \tDiego Roel \t Moralzarzal, 86 \tMadrid \t28034 \tSpain \n",
    "23 \tFolies gourmandes \tMartine Rancé \t184, chaussée de Tournai \tLille \t59000 \tFrance \n",
    "24 \tFolk och fä HB \tMaria Larsson \tÅkergatan 24 \tBräcke \tS-844 67 \tSweden \n",
    "25 \tFrankenversand \tPeter Franken \tBerliner Platz 43 \tMünchen \t80805 \tGermany \n",
    "26 \tFrance restauration \tCarine Schmitt \t54, rue Royale \tNantes \t44000 \tFrance \n",
    "27 \tFranchi S.p.A. \tPaolo Accorti \tVia Monte Bianco 34 \tTorino \t10100 \tItaly \n",
    "28 \tFuria Bacalhau e Frutos do Mar \tLino Rodriguez  \tJardim das rosas n. 32 \tLisboa \t1675 \tPortugal \n",
    "29 \tGalería del gastrónomo \tEduardo Saavedra \tRambla de Cataluña, 23 \tBarcelona \t08022 \tSpain \n",
    "30 \tGodos Cocina Típica \tJosé Pedro Freyre \t Romero, 33 \tSevilla \t41101 \tSpain \n",
    "31 \tGourmet Lanchonetes \tAndré Fonseca \tAv. Brasil, 442 \tCampinas \t04876-786 \tBrazil \n",
    "32 \tGreat Lakes Food Market \tHoward Snyder \t2732 Baker Blvd. \tEugene \t97403 \tUSA \n",
    "33 \tGROSELLA-Restaurante \tManuel Pereira \t5ª Ave. Los Palos Grandes \tCaracas \t1081 \tVenezuela \n",
    "34 \tHanari Carnes \tMario Pontes \tRua do Paço, 67 \tRio de Janeiro \t05454-876 \tBrazil \n",
    "35 \tHILARIÓN-Abastos \tCarlos Hernández \tCarrera 22 con Ave. Carlos Soublette #8-35 \tSan Cristóbal \t5022 \tVenezuela \n",
    "36 \tHungry Coyote Import Store \tYoshi Latimer \tCity Center Plaza 516 Main St. \tElgin \t97827 \tUSA \n",
    "37 \tHungry Owl All-Night Grocers \tPatricia McKenna \t8 Johnstown Road \tCork \t \tIreland \n",
    "38 \tIsland Trading \tHelen Bennett \tGarden House Crowther Way \tCowes \tPO31 7PJ \tUK \n",
    "39 \tKöniglich Essen \tPhilip Cramer \tMaubelstr. 90 \tBrandenburg \t14776 \tGermany \n",
    "40 \tLa corne d'abondance \tDaniel Tonini \t67, avenue de l'Europe \tVersailles \t78000 \tFrance \n",
    "41 \tLa maison d'Asie \tAnnette Roulet \t1 rue Alsace-Lorraine \tToulouse \t31000 \tFrance \n",
    "42 \tLaughing Bacchus Wine Cellars \tYoshi Tannamuri \t1900 Oak St. \tVancouver \tV3F 2K1 \tCanada \n",
    "43 \tLazy K Kountry Store \tJohn Steel \t12 Orchestra Terrace \tWalla Walla \t99362 \tUSA \n",
    "44 \tLehmanns Marktstand \tRenate Messner \tMagazinweg 7 \tFrankfurt a.M.  \t60528 \tGermany \n",
    "45 \tLet's Stop N Shop \tJaime Yorres \t87 Polk St. Suite 5 \tSan Francisco \t94117 \tUSA \n",
    "46 \tLILA-Supermercado \tCarlos González \tCarrera 52 con Ave. Bolívar #65-98 Llano Largo \tBarquisimeto \t3508 \tVenezuela \n",
    "47 \tLINO-Delicateses \tFelipe Izquierdo \tAve. 5 de Mayo Porlamar \tI. de Margarita \t4980 \tVenezuela \n",
    "48 \tLonesome Pine Restaurant \tFran Wilson \t89 Chiaroscuro Rd. \tPortland \t97219 \tUSA \n",
    "49 \tMagazzini Alimentari Riuniti \tGiovanni Rovelli \tVia Ludovico il Moro 22 \tBergamo \t24100 \tItaly \n",
    "50 \tMaison Dewey \tCatherine Dewey \tRue Joseph-Bens 532 \tBruxelles \tB-1180 \tBelgium \n",
    "51 \tMère Paillarde \tJean Fresnière \t43 rue St. Laurent \tMontréal \tH1J 1C3 \tCanada \n",
    "52 \tMorgenstern Gesundkost \tAlexander Feuer \tHeerstr. 22 \tLeipzig \t04179 \tGermany \n",
    "53 \tNorth/South \tSimon Crowther \tSouth House 300 Queensbridge \tLondon \tSW7 1RZ \tUK \n",
    "54 \tOcéano Atlántico Ltda. \tYvonne Moncada \tIng. Gustavo Moncada 8585 Piso 20-A \tBuenos Aires \t1010 \tArgentina \n",
    "55 \tOld World Delicatessen \tRene Phillips \t2743 Bering St. \tAnchorage \t99508 \tUSA \n",
    "56 \tOttilies Käseladen \tHenriette Pfalzheim \tMehrheimerstr. 369 \tKöln \t50739 \tGermany \n",
    "57 \tParis spécialités \tMarie Bertrand \t265, boulevard Charonne \tParis \t75012 \tFrance \n",
    "58 \tPericles Comidas clásicas \tGuillermo Fernández \tCalle Dr. Jorge Cash 321 \tMéxico D.F. \t05033 \tMexico \n",
    "59 \tPiccolo und mehr \tGeorg Pipps \tGeislweg 14 \tSalzburg \t5020 \tAustria \n",
    "60 \tPrincesa Isabel Vinhoss \tIsabel de Castro \tEstrada da saúde n. 58 \tLisboa \t1756 \tPortugal \n",
    "61 \tQue Delícia \tBernardo Batista \tRua da Panificadora, 12 \tRio de Janeiro \t02389-673 \tBrazil \n",
    "62 \tQueen Cozinha \tLúcia Carvalho \tAlameda dos Canàrios, 891 \tSão Paulo \t05487-020 \tBrazil \n",
    "63 \tQUICK-Stop \tHorst Kloss \tTaucherstraße 10 \tCunewalde \t01307 \tGermany \n",
    "64 \tRancho grande \tSergio Gutiérrez \tAv. del Libertador 900 \tBuenos Aires \t1010 \tArgentina \n",
    "65 \tRattlesnake Canyon Grocery \tPaula Wilson \t2817 Milton Dr. \tAlbuquerque \t87110 \tUSA \n",
    "66 \tReggiani Caseifici \tMaurizio Moroni \tStrada Provinciale 124 \tReggio Emilia \t42100 \tItaly \n",
    "67 \tRicardo Adocicados \tJanete Limeira \tAv. Copacabana, 267 \tRio de Janeiro \t02389-890 \tBrazil \n",
    "68 \tRichter Supermarkt \tMichael Holz \tGrenzacherweg 237 \tGenève \t1203 \tSwitzerland \n",
    "69 \tRomero y tomillo \tAlejandra Camino \tGran Vía, 1 \tMadrid \t28001 \tSpain \n",
    "70 \tSanté Gourmet \tJonas Bergulfsen \tErling Skakkes gate 78 \tStavern \t4110 \tNorway \n",
    "71 \tSave-a-lot Markets \tJose Pavarotti \t187 Suffolk Ln. \tBoise \t83720 \tUSA \n",
    "72 \tSeven Seas Imports \tHari Kumar \t90 Wadhurst Rd. \tLondon \tOX15 4NB \tUK \n",
    "73 \tSimons bistro \tJytte Petersen \tVinbæltet 34 \tKøbenhavn \t1734 \tDenmark \n",
    "74 \tSpécialités du monde \tDominique Perrier \t25, rue Lauriston \tParis \t75016 \tFrance \n",
    "75 \tSplit Rail Beer & Ale \tArt Braunschweiger \tP.O. Box 555 \tLander \t82520 \tUSA \n",
    "76 \tSuprêmes délices \tPascale Cartrain \tBoulevard Tirou, 255 \tCharleroi \tB-6000 \tBelgium \n",
    "77 \tThe Big Cheese \tLiz Nixon \t89 Jefferson Way Suite 2 \tPortland \t97201 \tUSA \n",
    "78 \tThe Cracker Box \tLiu Wong \t55 Grizzly Peak Rd. \tButte \t59801 \tUSA \n",
    "79 \tToms Spezialitäten \tKarin Josephs \tLuisenstr. 48 \tMünster \t44087 \tGermany \n",
    "80 \tTortuga Restaurante \tMiguel Angel Paolino \tAvda. Azteca 123 \tMéxico D.F. \t05033 \tMexico \n",
    "81 \tTradição Hipermercados \tAnabela Domingues \tAv. Inês de Castro, 414 \tSão Paulo \t05634-030 \tBrazil \n",
    "82 \tTrail's Head Gourmet Provisioners \tHelvetius Nagy \t722 DaVinci Blvd. \tKirkland \t98034 \tUSA \n",
    "83 \tVaffeljernet \tPalle Ibsen \tSmagsløget 45 \tÅrhus \t8200 \tDenmark \n",
    "84 \tVictuailles en stock \tMary Saveley \t2, rue du Commerce \tLyon \t69004 \tFrance \n",
    "85 \tVins et alcools Chevalier \tPaul Henriot \t59 rue de l'Abbaye \tReims \t51100 \tFrance \n",
    "86 \tDie Wandernde Kuh \tRita Müller \tAdenauerallee 900 \tStuttgart \t70563 \tGermany \n",
    "87 \tWartian Herkku \tPirkko Koskitalo \tTorikatu 38 \tOulu \t90110 \tFinland \n",
    "88 \tWellington Importadora \tPaula Parente \tRua do Mercado, 12 \tResende \t08737-363 \tBrazil \n",
    "89 \tWhite Clover Markets \tKarl Jablonski \t305 - 14th Ave. S. Suite 3B \tSeattle \t98128 \tUSA \n",
    "90 \tWilman Kala \tMatti Karttunen \tKeskuskatu 45 \tHelsinki \t21240 \tFinland \n",
    "91 \tWolski \tZbyszek \tul. Filtrowa 68 \tWalla \t01-012 \tPoland\n",
    "\"\"\"\n",
    "\n",
    "# 문자열을 데이터프레임으로 읽기 (공백 여러 개로 구분)\n",
    "df = pd.read_csv(StringIO(customer_data_text), sep='\\t', engine='python')\n",
    "\n",
    "# CSV 파일로 저장\n",
    "df.to_csv(\"/Users/admin/Desktop/Softeer_DE/data/customers.csv\", index=False)\n",
    "\n",
    "print(\"CSV 파일이 'customers.csv' 이름으로 저장되었습니다.\")"
   ]
  },
  {
   "cell_type": "code",
   "execution_count": 105,
   "id": "7c0a9822-75ae-4578-88c3-0ebca8110a44",
   "metadata": {},
   "outputs": [
    {
     "name": "stdout",
     "output_type": "stream",
     "text": [
      "CSV 파일이 'category.csv' 이름으로 저장되었습니다.\n"
     ]
    }
   ],
   "source": [
    "import pandas as pd\n",
    "from io import StringIO\n",
    "\n",
    "# 예시용: 고객 데이터 일부 (전체 데이터를 붙여넣으면 됩니다)\n",
    "category_data_text = \"\"\"\n",
    "CategoryID\tCategoryName\tDescription\n",
    "1 \tBeverages \tSoft drinks, coffees, teas, beers, and ales \n",
    "2 \tCondiments \tSweet and savory sauces, relishes, spreads, and seasonings \n",
    "3 \tConfections \tDesserts, candies, and sweet breads \n",
    "4 \tDairy Products \tCheeses \n",
    "5 \tGrains/Cereals \tBreads, crackers, pasta, and cereal \n",
    "6 \tMeat/Poultry \tPrepared meats \n",
    "7 \tProduce \tDried fruit and bean curd \n",
    "8 \tSeafood \tSeaweed and fish \n",
    "\"\"\"\n",
    "\n",
    "# 문자열을 데이터프레임으로 읽기 (공백 여러 개로 구분)\n",
    "df = pd.read_csv(StringIO(category_data_text), sep='\\t', engine='python')\n",
    "\n",
    "# CSV 파일로 저장\n",
    "df.to_csv(\"/Users/admin/Desktop/Softeer_DE/data/category.csv\", index=False)\n",
    "\n",
    "print(\"CSV 파일이 'category.csv' 이름으로 저장되었습니다.\")"
   ]
  },
  {
   "cell_type": "code",
   "execution_count": 112,
   "id": "565203da-6a4e-4834-932b-6d1e402f8979",
   "metadata": {},
   "outputs": [
    {
     "name": "stdout",
     "output_type": "stream",
     "text": [
      "CSV 파일이 'employee.csv' 이름으로 저장되었습니다.\n"
     ]
    }
   ],
   "source": [
    "import pandas as pd\n",
    "from io import StringIO\n",
    "\n",
    "# 예시용: 고객 데이터 일부 (전체 데이터를 붙여넣으면 됩니다)\n",
    "employee_data_text = \"\"\"\n",
    "EmployeeID\tLastName\tFirstName\tBirthDate\tPhoto\tNotes\n",
    "1 \tDavolio \tNancy \t12/8/1968 \tEmpID1.pic \tEducation includes a BA in psychology from Colorado State University. She also completed (The Art of the Cold Call). Nancy is a member of 'Toastmasters International'. \n",
    "2 \tFuller \tAndrew \t2/19/1952 \tEmpID2.pic \tAndrew received his BTS commercial and a Ph.D. in international marketing from the University of Dallas. He is fluent in French and Italian and reads German. He joined the company as a sales representative, was promoted to sales manager and was then named vice president of sales. Andrew is a member of the Sales Management Roundtable, the Seattle Chamber of Commerce, and the Pacific Rim Importers Association. \n",
    "3 \tLeverling \tJanet \t8/30/1963 \tEmpID3.pic \tJanet has a BS degree in chemistry from Boston College). She has also completed a certificate program in food retailing management. Janet was hired as a sales associate and was promoted to sales representative. \n",
    "4 \tPeacock \tMargaret \t9/19/1958 \tEmpID4.pic \tMargaret holds a BA in English literature from Concordia College and an MA from the American Institute of Culinary Arts. She was temporarily assigned to the London office before returning to her permanent post in Seattle. \n",
    "5 \tBuchanan \tSteven \t3/4/1955 \tEmpID5.pic \tSteven Buchanan graduated from St. Andrews University, Scotland, with a BSC degree. Upon joining the company as a sales representative, he spent 6 months in an orientation program at the Seattle office and then returned to his permanent post in London, where he was promoted to sales manager. Mr. Buchanan has completed the courses 'Successful Telemarketing' and 'International Sales Management'. He is fluent in French. \n",
    "6 \tSuyama \tMichael \t7/2/1963 \tEmpID6.pic \tMichael is a graduate of Sussex University (MA, economics) and the University of California at Los Angeles (MBA, marketing). He has also taken the courses 'Multi-Cultural Selling' and 'Time Management for the Sales Professional'. He is fluent in Japanese and can read and write French, Portuguese, and Spanish. \n",
    "7 \tKing \tRobert \t5/29/1960 \tEmpID7.pic \tRobert King served in the Peace Corps and traveled extensively before completing his degree in English at the University of Michigan and then joining the company. After completing a course entitled 'Selling in Europe', he was transferred to the London office. \n",
    "8 \tCallahan \tLaura \t1/9/1958 \tEmpID8.pic \tLaura received a BA in psychology from the University of Washington. She has also completed a course in business French. She reads and writes French. \n",
    "9 \tDodsworth \tAnne \t7/2/1969 \tEmpID9.pic \tAnne has a BA degree in English from St. Lawrence College. She is fluent in French and German. \n",
    "10 \tWest \tAdam \t9/19/1928 \tEmpID10.pic \tAn old chum \n",
    "\"\"\"\n",
    "\n",
    "# 문자열을 데이터프레임으로 읽기 (공백 여러 개로 구분)\n",
    "df = pd.read_csv(StringIO(employee_data_text), sep='\\t', engine='python')\n",
    "\n",
    "# CSV 파일로 저장\n",
    "df.to_csv(\"/Users/admin/Desktop/Softeer_DE/data/employee.csv\", index=False)\n",
    "\n",
    "print(\"CSV 파일이 'employee.csv' 이름으로 저장되었습니다.\")"
   ]
  },
  {
   "cell_type": "code",
   "execution_count": 14,
   "id": "7bfa735c-f90b-4323-8eee-1aacf50b36da",
   "metadata": {},
   "outputs": [
    {
     "name": "stdout",
     "output_type": "stream",
     "text": [
      "CSV 파일이 'products.csv' 이름으로 저장되었습니다.\n"
     ]
    }
   ],
   "source": [
    "import pandas as pd\n",
    "from io import StringIO\n",
    "\n",
    "product_data_text = \"\"\"\n",
    "ProductID\tProductName\tSupplierID\tCategoryID\tUnit\tPrice\n",
    "1 \tChais \t1 \t1 \t10 boxes x 20 bags \t18 \n",
    "2 \tChang \t1 \t1 \t24 - 12 oz bottles \t19 \n",
    "3 \tAniseed Syrup \t1 \t2 \t12 - 550 ml bottles \t10 \n",
    "4 \tChef Anton's Cajun Seasoning \t2 \t2 \t48 - 6 oz jars \t22 \n",
    "5 \tChef Anton's Gumbo Mix \t2 \t2 \t36 boxes \t21.35 \n",
    "6 \tGrandma's Boysenberry Spread \t3 \t2 \t12 - 8 oz jars \t25 \n",
    "7 \tUncle Bob's Organic Dried Pears \t3 \t7 \t12 - 1 lb pkgs. \t30 \n",
    "8 \tNorthwoods Cranberry Sauce \t3 \t2 \t12 - 12 oz jars \t40 \n",
    "9 \tMishi Kobe Niku \t4 \t6 \t18 - 500 g pkgs. \t97 \n",
    "10 \tIkura \t4 \t8 \t12 - 200 ml jars \t31 \n",
    "11 \tQueso Cabrales \t5 \t4 \t1 kg pkg. \t21 \n",
    "12 \tQueso Manchego La Pastora \t5 \t4 \t10 - 500 g pkgs. \t38 \n",
    "13 \tKonbu \t6 \t8 \t2 kg box \t6 \n",
    "14 \tTofu \t6 \t7 \t40 - 100 g pkgs. \t23.25 \n",
    "15 \tGenen Shouyu \t6 \t2 \t24 - 250 ml bottles \t15.5 \n",
    "16 \tPavlova \t7 \t3 \t32 - 500 g boxes \t17.45 \n",
    "17 \tAlice Mutton \t7 \t6 \t20 - 1 kg tins \t39 \n",
    "18 \tCarnarvon Tigers \t7 \t8 \t16 kg pkg. \t62.5 \n",
    "19 \tTeatime Chocolate Biscuits \t8 \t3 \t10 boxes x 12 pieces \t9.2 \n",
    "20 \tSir Rodney's Marmalade \t8 \t3 \t30 gift boxes \t81 \n",
    "21 \tSir Rodney's Scones \t8 \t3 \t24 pkgs. x 4 pieces \t10 \n",
    "22 \tGustaf's Knäckebröd \t9 \t5 \t24 - 500 g pkgs. \t21 \n",
    "23 \tTunnbröd \t9 \t5 \t12 - 250 g pkgs. \t9 \n",
    "24 \tGuaraná Fantástica \t10 \t1 \t12 - 355 ml cans \t4.5 \n",
    "25 \tNuNuCa Nuß-Nougat-Creme \t11 \t3 \t20 - 450 g glasses \t14 \n",
    "26 \tGumbär Gummibärchen \t11 \t3 \t100 - 250 g bags \t31.23 \n",
    "27 \tSchoggi Schokolade \t11 \t3 \t100 - 100 g pieces \t43.9 \n",
    "28 \tRössle Sauerkraut \t12 \t7 \t25 - 825 g cans \t45.6 \n",
    "29 \tThüringer Rostbratwurst \t12 \t6 \t50 bags x 30 sausgs. \t123.79 \n",
    "30 \tNord-Ost Matjeshering \t13 \t8 \t10 - 200 g glasses \t25.89 \n",
    "31 \tGorgonzola Telino \t14 \t4 \t12 - 100 g pkgs \t12.5 \n",
    "32 \tMascarpone Fabioli \t14 \t4 \t24 - 200 g pkgs. \t32 \n",
    "33 \tGeitost \t15 \t4 \t500 g \t2.5 \n",
    "34 \tSasquatch Ale \t16 \t1 \t24 - 12 oz bottles \t14 \n",
    "35 \tSteeleye Stout \t16 \t1 \t24 - 12 oz bottles \t18 \n",
    "36 \tInlagd Sill \t17 \t8 \t24 - 250 g jars \t19 \n",
    "37 \tGravad lax \t17 \t8 \t12 - 500 g pkgs. \t26 \n",
    "38 \tCôte de Blaye \t18 \t1 \t12 - 75 cl bottles \t263.5 \n",
    "39 \tChartreuse verte \t18 \t1 \t750 cc per bottle \t18 \n",
    "40 \tBoston Crab Meat \t19 \t8 \t24 - 4 oz tins \t18.4 \n",
    "41 \tJack's New England Clam Chowder \t19 \t8 \t12 - 12 oz cans \t9.65 \n",
    "42 \tSingaporean Hokkien Fried Mee \t20 \t5 \t32 - 1 kg pkgs. \t14 \n",
    "43 \tIpoh Coffee \t20 \t1 \t16 - 500 g tins \t46 \n",
    "44 \tGula Malacca \t20 \t2 \t20 - 2 kg bags \t19.45 \n",
    "45 \tRøgede sild \t21 \t8 \t1k pkg. \t9.5 \n",
    "46 \tSpegesild \t21 \t8 \t4 - 450 g glasses \t12 \n",
    "47 \tZaanse koeken \t22 \t3 \t10 - 4 oz boxes \t9.5 \n",
    "48 \tChocolade \t22 \t3 \t10 pkgs. \t12.75 \n",
    "49 \tMaxilaku \t23 \t3 \t24 - 50 g pkgs. \t20 \n",
    "50 \tValkoinen suklaa \t23 \t3 \t12 - 100 g bars \t16.25 \n",
    "51 \tManjimup Dried Apples \t24 \t7 \t50 - 300 g pkgs. \t53 \n",
    "52 \tFilo Mix \t24 \t5 \t16 - 2 kg boxes \t7 \n",
    "53 \tPerth Pasties \t24 \t6 \t48 pieces \t32.8 \n",
    "54 \tTourtière \t25 \t6 \t16 pies \t7.45 \n",
    "55 \tPâté chinois \t25 \t6 \t24 boxes x 2 pies \t24 \n",
    "56 \tGnocchi di nonna Alice \t26 \t5 \t24 - 250 g pkgs. \t38 \n",
    "57 \tRavioli Angelo \t26 \t5 \t24 - 250 g pkgs. \t19.5 \n",
    "58 \tEscargots de Bourgogne \t27 \t8 \t24 pieces \t13.25 \n",
    "59 \tRaclette Courdavault \t28 \t4 \t5 kg pkg. \t55 \n",
    "60 \tCamembert Pierrot \t28 \t4 \t15 - 300 g rounds \t34 \n",
    "61 \tSirop d'érable \t29 \t2 \t24 - 500 ml bottles \t28.5 \n",
    "62 \tTarte au sucre \t29 \t3 \t48 pies \t49.3 \n",
    "63 \tVegie-spread \t7 \t2 \t15 - 625 g jars \t43.9 \n",
    "64 \tWimmers gute Semmelknödel \t12 \t5 \t20 bags x 4 pieces \t33.25 \n",
    "65 \tLouisiana Fiery Hot Pepper Sauce \t2 \t2 \t32 - 8 oz bottles \t21.05 \n",
    "66 \tLouisiana Hot Spiced Okra \t2 \t2 \t24 - 8 oz jars \t17 \n",
    "67 \tLaughing Lumberjack Lager \t16 \t1 \t24 - 12 oz bottles \t14 \n",
    "68 \tScottish Longbreads \t8 \t3 \t10 boxes x 8 pieces \t12.5 \n",
    "69 \tGudbrandsdalsost \t15 \t4 \t10 kg pkg. \t36 \n",
    "70 \tOutback Lager \t7 \t1 \t24 - 355 ml bottles \t15 \n",
    "71 \tFløtemysost \t15 \t4 \t10 - 500 g pkgs. \t21.5 \n",
    "72 \tMozzarella di Giovanni \t14 \t4 \t24 - 200 g pkgs. \t34.8 \n",
    "73 \tRöd Kaviar \t17 \t8 \t24 - 150 g jars \t15 \n",
    "74 \tLonglife Tofu \t4 \t7 \t5 kg pkg. \t10 \n",
    "75 \tRhönbräu Klosterbier \t12 \t1 \t24 - 0.5 l bottles \t7.75 \n",
    "76 \tLakkalikööri \t23 \t1 \t500 ml  \t18 \n",
    "77 \tOriginal Frankfurter grüne Soße \t12 \t2 \t12 boxes \t13 \n",
    "\"\"\"\n",
    "\n",
    "# 문자열을 데이터프레임으로 읽기 (공백 여러 개로 구분)\n",
    "df = pd.read_csv(StringIO(product_data_text), sep='\\t', engine='python')\n",
    "\n",
    "# CSV 파일로 저장\n",
    "df.to_csv(\"/Users/admin/Desktop/Softeer_DE/data/products.csv\", index=False)\n",
    "\n",
    "print(\"CSV 파일이 'products.csv' 이름으로 저장되었습니다.\")"
   ]
  },
  {
   "cell_type": "code",
   "execution_count": 91,
   "id": "707ae4d6-0a9e-4a23-844e-8014fb0ea2f3",
   "metadata": {},
   "outputs": [
    {
     "name": "stdout",
     "output_type": "stream",
     "text": [
      "CSV 파일이 'orders.csv' 이름으로 저장되었습니다.\n"
     ]
    }
   ],
   "source": [
    "import pandas as pd\n",
    "from io import StringIO\n",
    "\n",
    "order_data_text = \"\"\"\n",
    "OrderID\tCustomerID\tEmployeeID\tOrderDate\tShipperID\n",
    "10248 \t90 \t5 \t7/4/1996 \t3 \n",
    "10249 \t81 \t6 \t7/5/1996 \t1 \n",
    "10250 \t34 \t4 \t7/8/1996 \t2 \n",
    "10251 \t84 \t3 \t7/8/1996 \t1 \n",
    "10252 \t76 \t4 \t7/9/1996 \t2 \n",
    "10253 \t34 \t3 \t7/10/1996 \t2 \n",
    "10254 \t14 \t5 \t7/11/1996 \t2 \n",
    "10255 \t68 \t9 \t7/12/1996 \t3 \n",
    "10256 \t88 \t3 \t7/15/1996 \t2 \n",
    "10257 \t35 \t4 \t7/16/1996 \t3 \n",
    "10258 \t20 \t1 \t7/17/1996 \t1 \n",
    "10259 \t13 \t4 \t7/18/1996 \t3 \n",
    "10260 \t55 \t4 \t7/19/1996 \t1 \n",
    "10261 \t61 \t4 \t7/19/1996 \t2 \n",
    "10262 \t65 \t8 \t7/22/1996 \t3 \n",
    "10263 \t20 \t9 \t7/23/1996 \t3 \n",
    "10264 \t24 \t6 \t7/24/1996 \t3 \n",
    "10265 \t7 \t2 \t7/25/1996 \t1 \n",
    "10266 \t87 \t3 \t7/26/1996 \t3 \n",
    "10267 \t25 \t4 \t7/29/1996 \t1 \n",
    "10268 \t33 \t8 \t7/30/1996 \t3 \n",
    "10269 \t89 \t5 \t7/31/1996 \t1 \n",
    "10270 \t87 \t1 \t8/1/1996 \t1 \n",
    "10271 \t75 \t6 \t8/1/1996 \t2 \n",
    "10272 \t65 \t6 \t8/2/1996 \t2 \n",
    "10273 \t63 \t3 \t8/5/1996 \t3 \n",
    "10274 \t85 \t6 \t8/6/1996 \t1 \n",
    "10275 \t49 \t1 \t8/7/1996 \t1 \n",
    "10276 \t80 \t8 \t8/8/1996 \t3 \n",
    "10277 \t52 \t2 \t8/9/1996 \t3 \n",
    "10278 \t5 \t8 \t8/12/1996 \t2 \n",
    "10279 \t44 \t8 \t8/13/1996 \t2 \n",
    "10280 \t5 \t2 \t8/14/1996 \t1 \n",
    "10281 \t69 \t4 \t8/14/1996 \t1 \n",
    "10282 \t69 \t4 \t8/15/1996 \t1 \n",
    "10283 \t46 \t3 \t8/16/1996 \t3 \n",
    "10284 \t44 \t4 \t8/19/1996 \t1 \n",
    "10285 \t63 \t1 \t8/20/1996 \t2 \n",
    "10286 \t63 \t8 \t8/21/1996 \t3 \n",
    "10287 \t67 \t8 \t8/22/1996 \t3 \n",
    "10288 \t66 \t4 \t8/23/1996 \t1 \n",
    "10289 \t11 \t7 \t8/26/1996 \t3 \n",
    "10290 \t15 \t8 \t8/27/1996 \t1 \n",
    "10291 \t61 \t6 \t8/27/1996 \t2 \n",
    "10292 \t81 \t1 \t8/28/1996 \t2 \n",
    "10293 \t80 \t1 \t8/29/1996 \t3 \n",
    "10294 \t65 \t4 \t8/30/1996 \t2 \n",
    "10295 \t85 \t2 \t9/2/1996 \t2 \n",
    "10296 \t46 \t6 \t9/3/1996 \t1 \n",
    "10297 \t7 \t5 \t9/4/1996 \t2 \n",
    "10298 \t37 \t6 \t9/5/1996 \t2 \n",
    "10299 \t67 \t4 \t9/6/1996 \t2 \n",
    "10300 \t49 \t2 \t9/9/1996 \t2 \n",
    "10301 \t86 \t8 \t9/9/1996 \t2 \n",
    "10302 \t76 \t4 \t9/10/1996 \t2 \n",
    "10303 \t30 \t7 \t9/11/1996 \t2 \n",
    "10304 \t80 \t1 \t9/12/1996 \t2 \n",
    "10305 \t55 \t8 \t9/13/1996 \t3 \n",
    "10306 \t69 \t1 \t9/16/1996 \t3 \n",
    "10307 \t48 \t2 \t9/17/1996 \t2 \n",
    "10308 \t2 \t7 \t9/18/1996 \t3 \n",
    "10309 \t37 \t3 \t9/19/1996 \t1 \n",
    "10310 \t77 \t8 \t9/20/1996 \t2 \n",
    "10311 \t18 \t1 \t9/20/1996 \t3 \n",
    "10312 \t86 \t2 \t9/23/1996 \t2 \n",
    "10313 \t63 \t2 \t9/24/1996 \t2 \n",
    "10314 \t65 \t1 \t9/25/1996 \t2 \n",
    "10315 \t38 \t4 \t9/26/1996 \t2 \n",
    "10316 \t65 \t1 \t9/27/1996 \t3 \n",
    "10317 \t48 \t6 \t9/30/1996 \t1 \n",
    "10318 \t38 \t8 \t10/1/1996 \t2 \n",
    "10319 \t80 \t7 \t10/2/1996 \t3 \n",
    "10320 \t87 \t5 \t10/3/1996 \t3 \n",
    "10321 \t38 \t3 \t10/3/1996 \t2 \n",
    "10322 \t58 \t7 \t10/4/1996 \t3 \n",
    "10323 \t39 \t4 \t10/7/1996 \t1 \n",
    "10324 \t71 \t9 \t10/8/1996 \t1 \n",
    "10325 \t39 \t1 \t10/9/1996 \t3 \n",
    "10326 \t8 \t4 \t10/10/1996 \t2 \n",
    "10327 \t24 \t2 \t10/11/1996 \t1 \n",
    "10328 \t28 \t4 \t10/14/1996 \t3 \n",
    "10329 \t75 \t4 \t10/15/1996 \t2 \n",
    "10330 \t46 \t3 \t10/16/1996 \t1 \n",
    "10331 \t9 \t9 \t10/16/1996 \t1 \n",
    "10332 \t51 \t3 \t10/17/1996 \t2 \n",
    "10333 \t87 \t5 \t10/18/1996 \t3 \n",
    "10334 \t84 \t8 \t10/21/1996 \t2 \n",
    "10335 \t37 \t7 \t10/22/1996 \t2 \n",
    "10336 \t60 \t7 \t10/23/1996 \t2 \n",
    "10337 \t25 \t4 \t10/24/1996 \t3 \n",
    "10338 \t55 \t4 \t10/25/1996 \t3 \n",
    "10339 \t51 \t2 \t10/28/1996 \t2 \n",
    "10340 \t9 \t1 \t10/29/1996 \t3 \n",
    "10341 \t73 \t7 \t10/29/1996 \t3 \n",
    "10342 \t25 \t4 \t10/30/1996 \t2 \n",
    "10343 \t44 \t4 \t10/31/1996 \t1 \n",
    "10344 \t89 \t4 \t11/1/1996 \t2 \n",
    "10345 \t63 \t2 \t11/4/1996 \t2 \n",
    "10346 \t65 \t3 \t11/5/1996 \t3 \n",
    "10347 \t21 \t4 \t11/6/1996 \t3 \n",
    "10348 \t86 \t4 \t11/7/1996 \t2 \n",
    "10349 \t75 \t7 \t11/8/1996 \t1 \n",
    "10350 \t41 \t6 \t11/11/1996 \t2 \n",
    "10351 \t20 \t1 \t11/11/1996 \t1 \n",
    "10352 \t28 \t3 \t11/12/1996 \t3 \n",
    "10353 \t59 \t7 \t11/13/1996 \t3 \n",
    "10354 \t58 \t8 \t11/14/1996 \t3 \n",
    "10355 \t4 \t6 \t11/15/1996 \t1 \n",
    "10356 \t86 \t6 \t11/18/1996 \t2 \n",
    "10357 \t46 \t1 \t11/19/1996 \t3 \n",
    "10358 \t41 \t5 \t11/20/1996 \t1 \n",
    "10359 \t72 \t5 \t11/21/1996 \t3 \n",
    "10360 \t7 \t4 \t11/22/1996 \t3 \n",
    "10361 \t63 \t1 \t11/22/1996 \t2 \n",
    "10362 \t9 \t3 \t11/25/1996 \t1 \n",
    "10363 \t17 \t4 \t11/26/1996 \t3 \n",
    "10364 \t19 \t1 \t11/26/1996 \t1 \n",
    "10365 \t3 \t3 \t11/27/1996 \t2 \n",
    "10366 \t29 \t8 \t11/28/1996 \t2 \n",
    "10367 \t83 \t7 \t11/28/1996 \t3 \n",
    "10368 \t20 \t2 \t11/29/1996 \t2 \n",
    "10369 \t75 \t8 \t12/2/1996 \t2 \n",
    "10370 \t14 \t6 \t12/3/1996 \t2 \n",
    "10371 \t41 \t1 \t12/3/1996 \t1 \n",
    "10372 \t62 \t5 \t12/4/1996 \t2 \n",
    "10373 \t37 \t4 \t12/5/1996 \t3 \n",
    "10374 \t91 \t1 \t12/5/1996 \t3 \n",
    "10375 \t36 \t3 \t12/6/1996 \t2 \n",
    "10376 \t51 \t1 \t12/9/1996 \t2 \n",
    "10377 \t72 \t1 \t12/9/1996 \t3 \n",
    "10378 \t24 \t5 \t12/10/1996 \t3 \n",
    "10379 \t61 \t2 \t12/11/1996 \t1 \n",
    "10380 \t37 \t8 \t12/12/1996 \t3 \n",
    "10381 \t46 \t3 \t12/12/1996 \t3 \n",
    "10382 \t20 \t4 \t12/13/1996 \t1 \n",
    "10383 \t4 \t8 \t12/16/1996 \t3 \n",
    "10384 \t5 \t3 \t12/16/1996 \t3 \n",
    "10385 \t75 \t1 \t12/17/1996 \t2 \n",
    "10386 \t21 \t9 \t12/18/1996 \t3 \n",
    "10387 \t70 \t1 \t12/18/1996 \t2 \n",
    "10388 \t72 \t2 \t12/19/1996 \t1 \n",
    "10389 \t10 \t4 \t12/20/1996 \t2 \n",
    "10390 \t20 \t6 \t12/23/1996 \t1 \n",
    "10391 \t17 \t3 \t12/23/1996 \t3 \n",
    "10392 \t59 \t2 \t12/24/1996 \t3 \n",
    "10393 \t71 \t1 \t12/25/1996 \t3 \n",
    "10394 \t36 \t1 \t12/25/1996 \t3 \n",
    "10395 \t35 \t6 \t12/26/1996 \t1 \n",
    "10396 \t25 \t1 \t12/27/1996 \t3 \n",
    "10397 \t60 \t5 \t12/27/1996 \t1 \n",
    "10398 \t71 \t2 \t12/30/1996 \t3 \n",
    "10399 \t83 \t8 \t12/31/1996 \t3 \n",
    "10400 \t19 \t1 \t1/1/1997 \t3 \n",
    "10401 \t65 \t1 \t1/1/1997 \t1 \n",
    "10402 \t20 \t8 \t1/2/1997 \t2 \n",
    "10403 \t20 \t4 \t1/3/1997 \t3 \n",
    "10404 \t49 \t2 \t1/3/1997 \t1 \n",
    "10405 \t47 \t1 \t1/6/1997 \t1 \n",
    "10406 \t62 \t7 \t1/7/1997 \t1 \n",
    "10407 \t56 \t2 \t1/7/1997 \t2 \n",
    "10408 \t23 \t8 \t1/8/1997 \t1 \n",
    "10409 \t54 \t3 \t1/9/1997 \t1 \n",
    "10410 \t10 \t3 \t1/10/1997 \t3 \n",
    "10411 \t10 \t9 \t1/10/1997 \t3 \n",
    "10412 \t87 \t8 \t1/13/1997 \t2 \n",
    "10413 \t41 \t3 \t1/14/1997 \t2 \n",
    "10414 \t21 \t2 \t1/14/1997 \t3 \n",
    "10415 \t36 \t3 \t1/15/1997 \t1 \n",
    "10416 \t87 \t8 \t1/16/1997 \t3 \n",
    "10417 \t73 \t4 \t1/16/1997 \t3 \n",
    "10418 \t63 \t4 \t1/17/1997 \t1 \n",
    "10419 \t68 \t4 \t1/20/1997 \t2 \n",
    "10420 \t88 \t3 \t1/21/1997 \t1 \n",
    "10421 \t61 \t8 \t1/21/1997 \t1 \n",
    "10422 \t27 \t2 \t1/22/1997 \t1 \n",
    "10423 \t31 \t6 \t1/23/1997 \t3 \n",
    "10424 \t51 \t7 \t1/23/1997 \t2 \n",
    "10425 \t41 \t6 \t1/24/1997 \t2 \n",
    "10426 \t29 \t4 \t1/27/1997 \t1 \n",
    "10427 \t59 \t4 \t1/27/1997 \t2 \n",
    "10428 \t66 \t7 \t1/28/1997 \t1 \n",
    "10429 \t37 \t3 \t1/29/1997 \t2 \n",
    "10430 \t20 \t4 \t1/30/1997 \t1 \n",
    "10431 \t10 \t4 \t1/30/1997 \t2 \n",
    "10432 \t75 \t3 \t1/31/1997 \t2 \n",
    "10433 \t60 \t3 \t2/3/1997 \t3 \n",
    "10434 \t24 \t3 \t2/3/1997 \t2 \n",
    "10435 \t16 \t8 \t2/4/1997 \t2 \n",
    "10436 \t7 \t3 \t2/5/1997 \t2 \n",
    "10437 \t87 \t8 \t2/5/1997 \t1 \n",
    "10438 \t79 \t3 \t2/6/1997 \t2 \n",
    "10439 \t51 \t6 \t2/7/1997 \t3 \n",
    "10440 \t71 \t4 \t2/10/1997 \t2 \n",
    "10441 \t55 \t3 \t2/10/1997 \t2 \n",
    "10442 \t20 \t3 \t2/11/1997 \t2 \n",
    "10443 \t66 \t8 \t2/12/1997 \t1 \n",
    "\"\"\"\n",
    "\n",
    "# 문자열을 데이터프레임으로 읽기 (공백 여러 개로 구분)\n",
    "df = pd.read_csv(StringIO(order_data_text), sep='\\t', engine='python')\n",
    "\n",
    "# CSV 파일로 저장\n",
    "df.to_csv(\"/Users/admin/Desktop/Softeer_DE/data/orders.csv\", index=False)\n",
    "\n",
    "print(\"CSV 파일이 'orders.csv' 이름으로 저장되었습니다.\")"
   ]
  },
  {
   "cell_type": "code",
   "execution_count": 72,
   "id": "e7c85563-f35d-4db5-adcb-e678d8b9fb47",
   "metadata": {},
   "outputs": [
    {
     "name": "stdout",
     "output_type": "stream",
     "text": [
      "CSV 파일이 'orderDetails.csv' 이름으로 저장되었습니다.\n"
     ]
    }
   ],
   "source": [
    "import pandas as pd\n",
    "from io import StringIO\n",
    "\n",
    "orderdetails_data_text = \"\"\"\n",
    "OrderDetailID\tOrderID\tProductID\tQuantity\n",
    "1 \t10248 \t11 \t12 \n",
    "2 \t10248 \t42 \t10 \n",
    "3 \t10248 \t72 \t5 \n",
    "4 \t10249 \t14 \t9 \n",
    "5 \t10249 \t51 \t40 \n",
    "6 \t10250 \t41 \t10 \n",
    "7 \t10250 \t51 \t35 \n",
    "8 \t10250 \t65 \t15 \n",
    "9 \t10251 \t22 \t6 \n",
    "10 \t10251 \t57 \t15 \n",
    "11 \t10251 \t65 \t20 \n",
    "12 \t10252 \t20 \t40 \n",
    "13 \t10252 \t33 \t25 \n",
    "14 \t10252 \t60 \t40 \n",
    "15 \t10253 \t31 \t20 \n",
    "16 \t10253 \t39 \t42 \n",
    "17 \t10253 \t49 \t40 \n",
    "18 \t10254 \t24 \t15 \n",
    "19 \t10254 \t55 \t21 \n",
    "20 \t10254 \t74 \t21 \n",
    "21 \t10255 \t2 \t20 \n",
    "22 \t10255 \t16 \t35 \n",
    "23 \t10255 \t36 \t25 \n",
    "24 \t10255 \t59 \t30 \n",
    "25 \t10256 \t53 \t15 \n",
    "26 \t10256 \t77 \t12 \n",
    "27 \t10257 \t27 \t25 \n",
    "28 \t10257 \t39 \t6 \n",
    "29 \t10257 \t77 \t15 \n",
    "30 \t10258 \t2 \t50 \n",
    "31 \t10258 \t5 \t65 \n",
    "32 \t10258 \t32 \t6 \n",
    "33 \t10259 \t21 \t10 \n",
    "34 \t10259 \t37 \t1 \n",
    "35 \t10260 \t41 \t16 \n",
    "36 \t10260 \t57 \t50 \n",
    "37 \t10260 \t62 \t15 \n",
    "38 \t10260 \t70 \t21 \n",
    "39 \t10261 \t21 \t20 \n",
    "40 \t10261 \t35 \t20 \n",
    "41 \t10262 \t5 \t12 \n",
    "42 \t10262 \t7 \t15 \n",
    "43 \t10262 \t56 \t2 \n",
    "44 \t10263 \t16 \t60 \n",
    "45 \t10263 \t24 \t28 \n",
    "46 \t10263 \t30 \t60 \n",
    "47 \t10263 \t74 \t36 \n",
    "48 \t10264 \t2 \t35 \n",
    "49 \t10264 \t41 \t25 \n",
    "50 \t10265 \t17 \t30 \n",
    "51 \t10265 \t70 \t20 \n",
    "52 \t10266 \t12 \t12 \n",
    "53 \t10267 \t40 \t50 \n",
    "54 \t10267 \t59 \t70 \n",
    "55 \t10267 \t76 \t15 \n",
    "56 \t10268 \t29 \t10 \n",
    "57 \t10268 \t72 \t4 \n",
    "58 \t10269 \t33 \t60 \n",
    "59 \t10269 \t72 \t20 \n",
    "60 \t10270 \t36 \t30 \n",
    "61 \t10270 \t43 \t25 \n",
    "62 \t10271 \t33 \t24 \n",
    "63 \t10272 \t20 \t6 \n",
    "64 \t10272 \t31 \t40 \n",
    "65 \t10272 \t72 \t24 \n",
    "66 \t10273 \t10 \t24 \n",
    "67 \t10273 \t31 \t15 \n",
    "68 \t10273 \t33 \t20 \n",
    "69 \t10273 \t40 \t60 \n",
    "70 \t10273 \t76 \t33 \n",
    "71 \t10274 \t71 \t20 \n",
    "72 \t10274 \t72 \t7 \n",
    "73 \t10275 \t24 \t12 \n",
    "74 \t10275 \t59 \t6 \n",
    "75 \t10276 \t10 \t15 \n",
    "76 \t10276 \t13 \t10 \n",
    "77 \t10277 \t28 \t20 \n",
    "78 \t10277 \t62 \t12 \n",
    "79 \t10278 \t44 \t16 \n",
    "80 \t10278 \t59 \t15 \n",
    "81 \t10278 \t63 \t8 \n",
    "82 \t10278 \t73 \t25 \n",
    "83 \t10279 \t17 \t15 \n",
    "84 \t10280 \t24 \t12 \n",
    "85 \t10280 \t55 \t20 \n",
    "86 \t10280 \t75 \t30 \n",
    "87 \t10281 \t19 \t1 \n",
    "88 \t10281 \t24 \t6 \n",
    "89 \t10281 \t35 \t4 \n",
    "90 \t10282 \t30 \t6 \n",
    "91 \t10282 \t57 \t2 \n",
    "92 \t10283 \t15 \t20 \n",
    "93 \t10283 \t19 \t18 \n",
    "94 \t10283 \t60 \t35 \n",
    "95 \t10283 \t72 \t3 \n",
    "96 \t10284 \t27 \t15 \n",
    "97 \t10284 \t44 \t21 \n",
    "98 \t10284 \t60 \t20 \n",
    "99 \t10284 \t67 \t5 \n",
    "100 \t10285 \t1 \t45 \n",
    "101 \t10285 \t40 \t40 \n",
    "102 \t10285 \t53 \t36 \n",
    "103 \t10286 \t35 \t100 \n",
    "104 \t10286 \t62 \t40 \n",
    "105 \t10287 \t16 \t40 \n",
    "106 \t10287 \t34 \t20 \n",
    "107 \t10287 \t46 \t15 \n",
    "108 \t10288 \t54 \t10 \n",
    "109 \t10288 \t68 \t3 \n",
    "110 \t10289 \t3 \t30 \n",
    "111 \t10289 \t64 \t9 \n",
    "112 \t10290 \t5 \t20 \n",
    "113 \t10290 \t29 \t15 \n",
    "114 \t10290 \t49 \t15 \n",
    "115 \t10290 \t77 \t10 \n",
    "116 \t10291 \t13 \t20 \n",
    "117 \t10291 \t44 \t24 \n",
    "118 \t10291 \t51 \t2 \n",
    "119 \t10292 \t20 \t20 \n",
    "120 \t10293 \t18 \t12 \n",
    "121 \t10293 \t24 \t10 \n",
    "122 \t10293 \t63 \t5 \n",
    "123 \t10293 \t75 \t6 \n",
    "124 \t10294 \t1 \t18 \n",
    "125 \t10294 \t17 \t15 \n",
    "126 \t10294 \t43 \t15 \n",
    "127 \t10294 \t60 \t21 \n",
    "128 \t10294 \t75 \t6 \n",
    "129 \t10295 \t56 \t4 \n",
    "130 \t10296 \t11 \t12 \n",
    "131 \t10296 \t16 \t30 \n",
    "132 \t10296 \t69 \t15 \n",
    "133 \t10297 \t39 \t60 \n",
    "134 \t10297 \t72 \t20 \n",
    "135 \t10298 \t2 \t40 \n",
    "136 \t10298 \t36 \t40 \n",
    "137 \t10298 \t59 \t30 \n",
    "138 \t10298 \t62 \t15 \n",
    "139 \t10299 \t19 \t15 \n",
    "140 \t10299 \t70 \t20 \n",
    "141 \t10300 \t66 \t30 \n",
    "142 \t10300 \t68 \t20 \n",
    "143 \t10301 \t40 \t10 \n",
    "144 \t10301 \t56 \t20 \n",
    "145 \t10302 \t17 \t40 \n",
    "146 \t10302 \t28 \t28 \n",
    "147 \t10302 \t43 \t12 \n",
    "148 \t10303 \t40 \t40 \n",
    "149 \t10303 \t65 \t30 \n",
    "150 \t10303 \t68 \t15 \n",
    "151 \t10304 \t49 \t30 \n",
    "152 \t10304 \t59 \t10 \n",
    "153 \t10304 \t71 \t2 \n",
    "154 \t10305 \t18 \t25 \n",
    "155 \t10305 \t29 \t25 \n",
    "156 \t10305 \t39 \t30 \n",
    "157 \t10306 \t30 \t10 \n",
    "158 \t10306 \t53 \t10 \n",
    "159 \t10306 \t54 \t5 \n",
    "160 \t10307 \t62 \t10 \n",
    "161 \t10307 \t68 \t3 \n",
    "162 \t10308 \t69 \t1 \n",
    "163 \t10308 \t70 \t5 \n",
    "164 \t10309 \t4 \t20 \n",
    "165 \t10309 \t6 \t30 \n",
    "166 \t10309 \t42 \t2 \n",
    "167 \t10309 \t43 \t20 \n",
    "168 \t10309 \t71 \t3 \n",
    "169 \t10310 \t16 \t10 \n",
    "170 \t10310 \t62 \t5 \n",
    "171 \t10311 \t42 \t6 \n",
    "172 \t10311 \t69 \t7 \n",
    "173 \t10312 \t28 \t4 \n",
    "174 \t10312 \t43 \t24 \n",
    "175 \t10312 \t53 \t20 \n",
    "176 \t10312 \t75 \t10 \n",
    "177 \t10313 \t36 \t12 \n",
    "178 \t10314 \t32 \t40 \n",
    "179 \t10314 \t58 \t30 \n",
    "180 \t10314 \t62 \t25 \n",
    "181 \t10315 \t34 \t14 \n",
    "182 \t10315 \t70 \t30 \n",
    "183 \t10316 \t41 \t10 \n",
    "184 \t10316 \t62 \t70 \n",
    "185 \t10317 \t1 \t20 \n",
    "186 \t10318 \t41 \t20 \n",
    "187 \t10318 \t76 \t6 \n",
    "188 \t10319 \t17 \t8 \n",
    "189 \t10319 \t28 \t14 \n",
    "190 \t10319 \t76 \t30 \n",
    "191 \t10320 \t71 \t30 \n",
    "192 \t10321 \t35 \t10 \n",
    "193 \t10322 \t52 \t20 \n",
    "194 \t10323 \t15 \t5 \n",
    "195 \t10323 \t25 \t4 \n",
    "196 \t10323 \t39 \t4 \n",
    "197 \t10324 \t16 \t21 \n",
    "198 \t10324 \t35 \t70 \n",
    "199 \t10324 \t46 \t30 \n",
    "200 \t10324 \t59 \t40 \n",
    "201 \t10324 \t63 \t80 \n",
    "202 \t10325 \t6 \t6 \n",
    "203 \t10325 \t13 \t12 \n",
    "204 \t10325 \t14 \t9 \n",
    "205 \t10325 \t31 \t4 \n",
    "206 \t10325 \t72 \t40 \n",
    "207 \t10326 \t4 \t24 \n",
    "208 \t10326 \t57 \t16 \n",
    "209 \t10326 \t75 \t50 \n",
    "210 \t10327 \t2 \t25 \n",
    "211 \t10327 \t11 \t50 \n",
    "212 \t10327 \t30 \t35 \n",
    "213 \t10327 \t58 \t30 \n",
    "214 \t10328 \t59 \t9 \n",
    "215 \t10328 \t65 \t40 \n",
    "216 \t10328 \t68 \t10 \n",
    "217 \t10329 \t19 \t10 \n",
    "218 \t10329 \t30 \t8 \n",
    "219 \t10329 \t38 \t20 \n",
    "220 \t10329 \t56 \t12 \n",
    "221 \t10330 \t26 \t50 \n",
    "222 \t10330 \t72 \t25 \n",
    "223 \t10331 \t54 \t15 \n",
    "224 \t10332 \t18 \t40 \n",
    "225 \t10332 \t42 \t10 \n",
    "226 \t10332 \t47 \t16 \n",
    "227 \t10333 \t14 \t10 \n",
    "228 \t10333 \t21 \t10 \n",
    "229 \t10333 \t71 \t40 \n",
    "230 \t10334 \t52 \t8 \n",
    "231 \t10334 \t68 \t10 \n",
    "232 \t10335 \t2 \t7 \n",
    "233 \t10335 \t31 \t25 \n",
    "234 \t10335 \t32 \t6 \n",
    "235 \t10335 \t51 \t48 \n",
    "236 \t10336 \t4 \t18 \n",
    "237 \t10337 \t23 \t40 \n",
    "238 \t10337 \t26 \t24 \n",
    "239 \t10337 \t36 \t20 \n",
    "240 \t10337 \t37 \t28 \n",
    "241 \t10337 \t72 \t25 \n",
    "242 \t10338 \t17 \t20 \n",
    "243 \t10338 \t30 \t15 \n",
    "244 \t10339 \t4 \t10 \n",
    "245 \t10339 \t17 \t70 \n",
    "246 \t10339 \t62 \t28 \n",
    "247 \t10340 \t18 \t20 \n",
    "248 \t10340 \t41 \t12 \n",
    "249 \t10340 \t43 \t40 \n",
    "250 \t10341 \t33 \t8 \n",
    "251 \t10341 \t59 \t9 \n",
    "252 \t10342 \t2 \t24 \n",
    "253 \t10342 \t31 \t56 \n",
    "254 \t10342 \t36 \t40 \n",
    "255 \t10342 \t55 \t40 \n",
    "256 \t10343 \t64 \t50 \n",
    "257 \t10343 \t68 \t4 \n",
    "258 \t10343 \t76 \t15 \n",
    "259 \t10344 \t4 \t35 \n",
    "260 \t10344 \t8 \t70 \n",
    "261 \t10345 \t8 \t70 \n",
    "262 \t10345 \t19 \t80 \n",
    "263 \t10345 \t42 \t9 \n",
    "264 \t10346 \t17 \t36 \n",
    "265 \t10346 \t56 \t20 \n",
    "266 \t10347 \t25 \t10 \n",
    "267 \t10347 \t39 \t50 \n",
    "268 \t10347 \t40 \t4 \n",
    "269 \t10347 \t75 \t6 \n",
    "270 \t10348 \t1 \t15 \n",
    "271 \t10348 \t23 \t25 \n",
    "272 \t10349 \t54 \t24 \n",
    "273 \t10350 \t50 \t15 \n",
    "274 \t10350 \t69 \t18 \n",
    "275 \t10351 \t38 \t20 \n",
    "276 \t10351 \t41 \t13 \n",
    "277 \t10351 \t44 \t77 \n",
    "278 \t10351 \t65 \t10 \n",
    "279 \t10352 \t24 \t10 \n",
    "280 \t10352 \t54 \t20 \n",
    "281 \t10353 \t11 \t12 \n",
    "282 \t10353 \t38 \t50 \n",
    "283 \t10354 \t1 \t12 \n",
    "284 \t10354 \t29 \t4 \n",
    "285 \t10355 \t24 \t25 \n",
    "286 \t10355 \t57 \t25 \n",
    "287 \t10356 \t31 \t30 \n",
    "288 \t10356 \t55 \t12 \n",
    "289 \t10356 \t69 \t20 \n",
    "290 \t10357 \t10 \t30 \n",
    "291 \t10357 \t26 \t16 \n",
    "292 \t10357 \t60 \t8 \n",
    "293 \t10358 \t24 \t10 \n",
    "294 \t10358 \t34 \t10 \n",
    "295 \t10358 \t36 \t20 \n",
    "296 \t10359 \t16 \t56 \n",
    "297 \t10359 \t31 \t70 \n",
    "298 \t10359 \t60 \t80 \n",
    "299 \t10360 \t28 \t30 \n",
    "300 \t10360 \t29 \t35 \n",
    "301 \t10360 \t38 \t10 \n",
    "302 \t10360 \t49 \t35 \n",
    "303 \t10360 \t54 \t28 \n",
    "304 \t10361 \t39 \t54 \n",
    "305 \t10361 \t60 \t55 \n",
    "306 \t10362 \t25 \t50 \n",
    "307 \t10362 \t51 \t20 \n",
    "308 \t10362 \t54 \t24 \n",
    "309 \t10363 \t31 \t20 \n",
    "310 \t10363 \t75 \t12 \n",
    "311 \t10363 \t76 \t12 \n",
    "312 \t10364 \t69 \t30 \n",
    "313 \t10364 \t71 \t5 \n",
    "314 \t10365 \t11 \t24 \n",
    "315 \t10366 \t65 \t5 \n",
    "316 \t10366 \t77 \t5 \n",
    "317 \t10367 \t34 \t36 \n",
    "318 \t10367 \t54 \t18 \n",
    "319 \t10367 \t65 \t15 \n",
    "320 \t10367 \t77 \t7 \n",
    "321 \t10368 \t21 \t5 \n",
    "322 \t10368 \t28 \t13 \n",
    "323 \t10368 \t57 \t25 \n",
    "324 \t10368 \t64 \t35 \n",
    "325 \t10369 \t29 \t20 \n",
    "326 \t10369 \t56 \t18 \n",
    "327 \t10370 \t1 \t15 \n",
    "328 \t10370 \t64 \t30 \n",
    "329 \t10370 \t74 \t20 \n",
    "330 \t10371 \t36 \t6 \n",
    "331 \t10372 \t20 \t12 \n",
    "332 \t10372 \t38 \t40 \n",
    "333 \t10372 \t60 \t70 \n",
    "334 \t10372 \t72 \t42 \n",
    "335 \t10373 \t58 \t80 \n",
    "336 \t10373 \t71 \t50 \n",
    "337 \t10374 \t31 \t30 \n",
    "338 \t10374 \t58 \t15 \n",
    "339 \t10375 \t14 \t15 \n",
    "340 \t10375 \t54 \t10 \n",
    "341 \t10376 \t31 \t42 \n",
    "342 \t10377 \t28 \t20 \n",
    "343 \t10377 \t39 \t20 \n",
    "344 \t10378 \t71 \t6 \n",
    "345 \t10379 \t41 \t8 \n",
    "346 \t10379 \t63 \t16 \n",
    "347 \t10379 \t65 \t20 \n",
    "348 \t10380 \t30 \t18 \n",
    "349 \t10380 \t53 \t20 \n",
    "350 \t10380 \t60 \t6 \n",
    "351 \t10380 \t70 \t30 \n",
    "352 \t10381 \t74 \t14 \n",
    "353 \t10382 \t5 \t32 \n",
    "354 \t10382 \t18 \t9 \n",
    "355 \t10382 \t29 \t14 \n",
    "356 \t10382 \t33 \t60 \n",
    "357 \t10382 \t74 \t50 \n",
    "358 \t10383 \t13 \t20 \n",
    "359 \t10383 \t50 \t15 \n",
    "360 \t10383 \t56 \t20 \n",
    "361 \t10384 \t20 \t28 \n",
    "362 \t10384 \t60 \t15 \n",
    "363 \t10385 \t7 \t10 \n",
    "364 \t10385 \t60 \t20 \n",
    "365 \t10385 \t68 \t8 \n",
    "366 \t10386 \t24 \t15 \n",
    "367 \t10386 \t34 \t10 \n",
    "368 \t10387 \t24 \t15 \n",
    "369 \t10387 \t28 \t6 \n",
    "370 \t10387 \t59 \t12 \n",
    "371 \t10387 \t71 \t15 \n",
    "372 \t10388 \t45 \t15 \n",
    "373 \t10388 \t52 \t20 \n",
    "374 \t10388 \t53 \t40 \n",
    "375 \t10389 \t10 \t16 \n",
    "376 \t10389 \t55 \t15 \n",
    "377 \t10389 \t62 \t20 \n",
    "378 \t10389 \t70 \t30 \n",
    "379 \t10390 \t31 \t60 \n",
    "380 \t10390 \t35 \t40 \n",
    "381 \t10390 \t46 \t45 \n",
    "382 \t10390 \t72 \t24 \n",
    "383 \t10391 \t13 \t18 \n",
    "384 \t10392 \t69 \t50 \n",
    "385 \t10393 \t2 \t25 \n",
    "386 \t10393 \t14 \t42 \n",
    "387 \t10393 \t25 \t7 \n",
    "388 \t10393 \t26 \t70 \n",
    "389 \t10393 \t31 \t32 \n",
    "390 \t10394 \t13 \t10 \n",
    "391 \t10394 \t62 \t10 \n",
    "392 \t10395 \t46 \t28 \n",
    "393 \t10395 \t53 \t70 \n",
    "394 \t10395 \t69 \t8 \n",
    "395 \t10396 \t23 \t40 \n",
    "396 \t10396 \t71 \t60 \n",
    "397 \t10396 \t72 \t21 \n",
    "398 \t10397 \t21 \t10 \n",
    "399 \t10397 \t51 \t18 \n",
    "400 \t10398 \t35 \t30 \n",
    "401 \t10398 \t55 \t120 \n",
    "402 \t10399 \t68 \t60 \n",
    "403 \t10399 \t71 \t30 \n",
    "404 \t10399 \t76 \t35 \n",
    "405 \t10399 \t77 \t14 \n",
    "406 \t10400 \t29 \t21 \n",
    "407 \t10400 \t35 \t35 \n",
    "408 \t10400 \t49 \t30 \n",
    "409 \t10401 \t30 \t18 \n",
    "410 \t10401 \t56 \t70 \n",
    "411 \t10401 \t65 \t20 \n",
    "412 \t10401 \t71 \t60 \n",
    "413 \t10402 \t23 \t60 \n",
    "414 \t10402 \t63 \t65 \n",
    "415 \t10403 \t16 \t21 \n",
    "416 \t10403 \t48 \t70 \n",
    "417 \t10404 \t26 \t30 \n",
    "418 \t10404 \t42 \t40 \n",
    "419 \t10404 \t49 \t30 \n",
    "420 \t10405 \t3 \t50 \n",
    "421 \t10406 \t1 \t10 \n",
    "422 \t10406 \t21 \t30 \n",
    "423 \t10406 \t28 \t42 \n",
    "424 \t10406 \t36 \t5 \n",
    "425 \t10406 \t40 \t2 \n",
    "426 \t10407 \t11 \t30 \n",
    "427 \t10407 \t69 \t15 \n",
    "428 \t10407 \t71 \t15 \n",
    "429 \t10408 \t37 \t10 \n",
    "430 \t10408 \t54 \t6 \n",
    "431 \t10408 \t62 \t35 \n",
    "432 \t10409 \t14 \t12 \n",
    "433 \t10409 \t21 \t12 \n",
    "434 \t10410 \t33 \t49 \n",
    "435 \t10410 \t59 \t16 \n",
    "436 \t10411 \t41 \t25 \n",
    "437 \t10411 \t44 \t40 \n",
    "438 \t10411 \t59 \t9 \n",
    "439 \t10412 \t14 \t20 \n",
    "440 \t10413 \t1 \t24 \n",
    "441 \t10413 \t62 \t40 \n",
    "442 \t10413 \t76 \t14 \n",
    "443 \t10414 \t19 \t18 \n",
    "444 \t10414 \t33 \t50 \n",
    "445 \t10415 \t17 \t2 \n",
    "446 \t10415 \t33 \t20 \n",
    "447 \t10416 \t19 \t20 \n",
    "448 \t10416 \t53 \t10 \n",
    "449 \t10416 \t57 \t20 \n",
    "450 \t10417 \t38 \t50 \n",
    "451 \t10417 \t46 \t2 \n",
    "452 \t10417 \t68 \t36 \n",
    "453 \t10417 \t77 \t35 \n",
    "454 \t10418 \t2 \t60 \n",
    "455 \t10418 \t47 \t55 \n",
    "456 \t10418 \t61 \t16 \n",
    "457 \t10418 \t74 \t15 \n",
    "458 \t10419 \t60 \t60 \n",
    "459 \t10419 \t69 \t20 \n",
    "460 \t10420 \t9 \t20 \n",
    "461 \t10420 \t13 \t2 \n",
    "462 \t10420 \t70 \t8 \n",
    "463 \t10420 \t73 \t20 \n",
    "464 \t10421 \t19 \t4 \n",
    "465 \t10421 \t26 \t30 \n",
    "466 \t10421 \t53 \t15 \n",
    "467 \t10421 \t77 \t10 \n",
    "468 \t10422 \t26 \t2 \n",
    "469 \t10423 \t31 \t14 \n",
    "470 \t10423 \t59 \t20 \n",
    "471 \t10424 \t35 \t60 \n",
    "472 \t10424 \t38 \t49 \n",
    "473 \t10424 \t68 \t30 \n",
    "474 \t10425 \t55 \t10 \n",
    "475 \t10425 \t76 \t20 \n",
    "476 \t10426 \t56 \t5 \n",
    "477 \t10426 \t64 \t7 \n",
    "478 \t10427 \t14 \t35 \n",
    "479 \t10428 \t46 \t20 \n",
    "480 \t10429 \t50 \t40 \n",
    "481 \t10429 \t63 \t35 \n",
    "482 \t10430 \t17 \t45 \n",
    "483 \t10430 \t21 \t50 \n",
    "484 \t10430 \t56 \t30 \n",
    "485 \t10430 \t59 \t70 \n",
    "486 \t10431 \t17 \t50 \n",
    "487 \t10431 \t40 \t50 \n",
    "488 \t10431 \t47 \t30 \n",
    "489 \t10432 \t26 \t10 \n",
    "490 \t10432 \t54 \t40 \n",
    "491 \t10433 \t56 \t28 \n",
    "492 \t10434 \t11 \t6 \n",
    "493 \t10434 \t76 \t18 \n",
    "494 \t10435 \t2 \t10 \n",
    "495 \t10435 \t22 \t12 \n",
    "496 \t10435 \t72 \t10 \n",
    "497 \t10436 \t46 \t5 \n",
    "498 \t10436 \t56 \t40 \n",
    "499 \t10436 \t64 \t30 \n",
    "500 \t10436 \t75 \t24 \n",
    "501 \t10437 \t53 \t15 \n",
    "502 \t10438 \t19 \t15 \n",
    "503 \t10438 \t34 \t20 \n",
    "504 \t10438 \t57 \t15 \n",
    "505 \t10439 \t12 \t15 \n",
    "506 \t10439 \t16 \t16 \n",
    "507 \t10439 \t64 \t6 \n",
    "508 \t10439 \t74 \t30 \n",
    "509 \t10440 \t2 \t45 \n",
    "510 \t10440 \t16 \t49 \n",
    "511 \t10440 \t29 \t24 \n",
    "512 \t10440 \t61 \t90 \n",
    "513 \t10441 \t27 \t50 \n",
    "514 \t10442 \t11 \t30 \n",
    "515 \t10442 \t54 \t80 \n",
    "516 \t10442 \t66 \t60 \n",
    "517 \t10443 \t11 \t6 \n",
    "518 \t10443 \t28 \t12 \n",
    "\"\"\"\n",
    "\n",
    "# 문자열을 데이터프레임으로 읽기 (공백 여러 개로 구분)\n",
    "df = pd.read_csv(StringIO(orderdetails_data_text), sep='\\t', engine='python')\n",
    "\n",
    "# CSV 파일로 저장\n",
    "df.to_csv(\"/Users/admin/Desktop/Softeer_DE/data/orderDetails.csv\", index=False)\n",
    "\n",
    "print(\"CSV 파일이 'orderDetails.csv' 이름으로 저장되었습니다.\")"
   ]
  },
  {
   "cell_type": "code",
   "execution_count": 46,
   "id": "3ec037ea-76af-43ed-a690-707686eba7f6",
   "metadata": {},
   "outputs": [
    {
     "data": {
      "text/plain": [
       "91"
      ]
     },
     "execution_count": 46,
     "metadata": {},
     "output_type": "execute_result"
    }
   ],
   "source": [
    "# CSV 파일 경로 (수정 가능)\n",
    "csv_path = \"/Users/admin/Desktop/Softeer_DE/data/customers.csv\"\n",
    "\n",
    "df = pd.read_csv(csv_path)\n",
    "df = df.apply(lambda x: x.str.strip() if x.dtype == \"object\" else x)\n",
    "\n",
    "df.to_sql(\"customers\", connection, if_exists=\"replace\", index=False)"
   ]
  },
  {
   "cell_type": "code",
   "execution_count": 73,
   "id": "016843aa-9cfa-475c-b807-ebf25ec16c82",
   "metadata": {},
   "outputs": [
    {
     "data": {
      "text/plain": [
       "518"
      ]
     },
     "execution_count": 73,
     "metadata": {},
     "output_type": "execute_result"
    }
   ],
   "source": [
    "# CSV 파일 경로 (수정 가능)\n",
    "csv_path = \"/Users/admin/Desktop/Softeer_DE/data/orderDetails.csv\"\n",
    "\n",
    "df = pd.read_csv(csv_path)\n",
    "df = df.apply(lambda x: x.str.strip() if x.dtype == \"object\" else x)\n",
    "\n",
    "df.to_sql(\"OrderDetails\", connection, if_exists=\"replace\", index=False)"
   ]
  },
  {
   "cell_type": "code",
   "execution_count": 15,
   "id": "b36bc869-8681-4da6-8024-703f64c61bdb",
   "metadata": {},
   "outputs": [
    {
     "data": {
      "text/plain": [
       "77"
      ]
     },
     "execution_count": 15,
     "metadata": {},
     "output_type": "execute_result"
    }
   ],
   "source": [
    "# CSV 파일 경로 (수정 가능)\n",
    "csv_path = \"/Users/admin/Desktop/Softeer_DE/data/products.csv\"\n",
    "\n",
    "df = pd.read_csv(csv_path)\n",
    "df = df.apply(lambda x: x.str.strip() if x.dtype == \"object\" else x)\n",
    "\n",
    "df.to_sql(\"products\", connection, if_exists=\"replace\", index=False)"
   ]
  },
  {
   "cell_type": "code",
   "execution_count": 92,
   "id": "08b8eba2-0d26-408f-9662-61dda5f45817",
   "metadata": {},
   "outputs": [
    {
     "data": {
      "text/plain": [
       "196"
      ]
     },
     "execution_count": 92,
     "metadata": {},
     "output_type": "execute_result"
    }
   ],
   "source": [
    "# CSV 파일 경로 (수정 가능)\n",
    "csv_path = \"/Users/admin/Desktop/Softeer_DE/data/orders.csv\"\n",
    "\n",
    "df = pd.read_csv(csv_path)\n",
    "df = df.apply(lambda x: x.str.strip() if x.dtype == \"object\" else x)\n",
    "\n",
    "df.to_sql(\"orders\", connection, if_exists=\"replace\", index=False)"
   ]
  },
  {
   "cell_type": "code",
   "execution_count": 106,
   "id": "cdbbd582-0c51-4eb0-8512-81d801ca48fe",
   "metadata": {},
   "outputs": [
    {
     "data": {
      "text/plain": [
       "8"
      ]
     },
     "execution_count": 106,
     "metadata": {},
     "output_type": "execute_result"
    }
   ],
   "source": [
    "# CSV 파일 경로 (수정 가능)\n",
    "csv_path = \"/Users/admin/Desktop/Softeer_DE/data/category.csv\"\n",
    "\n",
    "df = pd.read_csv(csv_path)\n",
    "df = df.apply(lambda x: x.str.strip() if x.dtype == \"object\" else x)\n",
    "\n",
    "df.to_sql(\"categories\", connection, if_exists=\"replace\", index=False)"
   ]
  },
  {
   "cell_type": "code",
   "execution_count": 113,
   "id": "2a50b6c0-0c77-419a-ae70-9d009fc70a53",
   "metadata": {},
   "outputs": [
    {
     "data": {
      "text/plain": [
       "10"
      ]
     },
     "execution_count": 113,
     "metadata": {},
     "output_type": "execute_result"
    }
   ],
   "source": [
    "# CSV 파일 경로 (수정 가능)\n",
    "csv_path = \"/Users/admin/Desktop/Softeer_DE/data/employee.csv\"\n",
    "\n",
    "df = pd.read_csv(csv_path)\n",
    "df = df.apply(lambda x: x.str.strip() if x.dtype == \"object\" else x)\n",
    "\n",
    "df.to_sql(\"employees\", connection, if_exists=\"replace\", index=False)"
   ]
  },
  {
   "cell_type": "markdown",
   "id": "118920c7-9054-4ffb-85b5-47bd37b6466c",
   "metadata": {
    "jp-MarkdownHeadingCollapsed": true
   },
   "source": [
    "### SQL Example"
   ]
  },
  {
   "cell_type": "code",
   "execution_count": 55,
   "id": "be0477ca-3d21-4018-acf4-c48b33c449ab",
   "metadata": {},
   "outputs": [],
   "source": [
    "def execute_select_query(query):\n",
    "    sql_command = query\n",
    "    cursor.execute(sql_command)\n",
    "    res = cursor.fetchall()\n",
    "    print('command :',sql_command)\n",
    "    for i in res[:5]:\n",
    "        print(i)"
   ]
  },
  {
   "cell_type": "code",
   "execution_count": 58,
   "id": "f9f83a4e-d844-4e4e-a471-8790cb2a3a9f",
   "metadata": {},
   "outputs": [
    {
     "name": "stdout",
     "output_type": "stream",
     "text": [
      "command : SELECT * FROM customers;\n",
      "(2, 'Ana Trujillo Emparedados y helados', 'Ana Trujillo', 'Avda. de la Constitución 2222', 'México D.F.', '05021', 'Mexico')\n",
      "(3, 'Antonio Moreno Taquería', 'Antonio Moreno', 'Mataderos 2312', 'México D.F.', '05023', 'Mexico')\n",
      "(4, 'Around the Horn', 'Thomas Hardy', '120 Hanover Sq.', 'London', 'WA1 1DP', 'UK')\n",
      "(5, 'Berglunds snabbköp', 'Christina Berglund', 'Berguvsvägen 8', 'Luleå', 'S-958 22', 'Sweden')\n",
      "(6, 'Blauer See Delikatessen', 'Hanna Moos', 'Forsterstr. 57', 'Mannheim', '68306', 'Germany')\n"
     ]
    }
   ],
   "source": [
    "# SQL Syntax\n",
    "sql_command = \"SELECT * FROM customers;\"\n",
    "execute_select_query(sql_command)"
   ]
  },
  {
   "cell_type": "code",
   "execution_count": 20,
   "id": "d312e852-6141-40e4-874c-d6b5525400cd",
   "metadata": {},
   "outputs": [
    {
     "name": "stdout",
     "output_type": "stream",
     "text": [
      "command : SELECT CustomerName, City FROM Customers;\n",
      "('Alfreds Futterkiste', 'Berlin')\n",
      "('Ana Trujillo Emparedados y helados', 'México D.F.')\n",
      "('Antonio Moreno Taquería', 'México D.F.')\n",
      "('Around the Horn', 'London')\n",
      "('Berglunds snabbköp', 'Luleå')\n"
     ]
    }
   ],
   "source": [
    "# SQL SELECT Statement\n",
    "sql_command = \"SELECT CustomerName, City FROM Customers;\"\n",
    "execute_select_query(sql_command)"
   ]
  },
  {
   "cell_type": "code",
   "execution_count": 25,
   "id": "a9164437-d826-4042-a1ab-ca06dccb2216",
   "metadata": {},
   "outputs": [
    {
     "name": "stdout",
     "output_type": "stream",
     "text": [
      "command : SELECT DISTINCT Country FROM Customers;\n",
      "('Germany',)\n",
      "('Mexico',)\n",
      "('UK',)\n",
      "('Sweden',)\n",
      "('France',)\n",
      "\n",
      "command : SELECT Country FROM Customers;\n",
      "('Germany',)\n",
      "('Mexico',)\n",
      "('Mexico',)\n",
      "('UK',)\n",
      "('Sweden',)\n",
      "\n",
      "command : SELECT COUNT(DISTINCT Country) FROM Customers;\n",
      "[(21,)]\n",
      "\n",
      "command : SELECT Count(*) AS DistinctCountries FROM (SELECT DISTINCT Country FROM Customers);\n",
      "[(21,)]\n"
     ]
    }
   ],
   "source": [
    "# SQL SELECT DISTINCT Statement\n",
    "sql_command = \"SELECT DISTINCT Country FROM Customers;\"\n",
    "execute_select_query(sql_command)\n",
    "print()\n",
    "\n",
    "sql_command = \"SELECT Country FROM Customers;\"\n",
    "execute_select_query(sql_command)\n",
    "print()\n",
    "\n",
    "# MS Access : SELECT Count(*) AS DistinctCountries FROM (SELECT DISTINCT Country FROM Customers);\n",
    "sql_command = \"SELECT COUNT(DISTINCT Country) FROM Customers;\"\n",
    "execute_select_query(sql_command)\n",
    "print()\n",
    "\n",
    "sql_command = \"SELECT Count(*) AS DistinctCountries FROM (SELECT DISTINCT Country FROM Customers);\"\n",
    "execute_select_query(sql_command)"
   ]
  },
  {
   "cell_type": "code",
   "execution_count": 28,
   "id": "66783a97-24e6-4ee6-9abd-c5ddd565746f",
   "metadata": {
    "scrolled": true
   },
   "outputs": [
    {
     "name": "stdout",
     "output_type": "stream",
     "text": [
      "command : SELECT * FROM Customers WHERE Country='Mexico';\n",
      "(2, 'Ana Trujillo Emparedados y helados', 'Ana Trujillo', 'Avda. de la Constitución 2222', 'México D.F.', '05021', 'Mexico')\n",
      "(3, 'Antonio Moreno Taquería', 'Antonio Moreno', 'Mataderos 2312', 'México D.F.', '05023', 'Mexico')\n",
      "(13, 'Centro comercial Moctezuma', 'Francisco Chang', 'Sierras de Granada 9993', 'México D.F.', '05022', 'Mexico')\n",
      "(58, 'Pericles Comidas clásicas', 'Guillermo Fernández', 'Calle Dr. Jorge Cash 321', 'México D.F.', '05033', 'Mexico')\n",
      "(80, 'Tortuga Restaurante', 'Miguel Angel Paolino', 'Avda. Azteca 123', 'México D.F.', '05033', 'Mexico')\n",
      "\n",
      "command : SELECT * FROM Customers WHERE CustomerID=1;\n",
      "(1, 'Alfreds Futterkiste', 'Maria Anders', 'Obere Str. 57', 'Berlin', '12209', 'Germany')\n",
      "\n",
      "command : SELECT * FROM Customers WHERE CustomerID > 80;\n",
      "(81, 'Tradição Hipermercados', 'Anabela Domingues', 'Av. Inês de Castro, 414', 'São Paulo', '05634-030', 'Brazil')\n",
      "(82, \"Trail's Head Gourmet Provisioners\", 'Helvetius Nagy', '722 DaVinci Blvd.', 'Kirkland', '98034', 'USA')\n",
      "(83, 'Vaffeljernet', 'Palle Ibsen', 'Smagsløget 45', 'Århus', '8200', 'Denmark')\n",
      "(84, 'Victuailles en stock', 'Mary Saveley', '2, rue du Commerce', 'Lyon', '69004', 'France')\n",
      "(85, 'Vins et alcools Chevalier', 'Paul Henriot', \"59 rue de l'Abbaye\", 'Reims', '51100', 'France')\n"
     ]
    }
   ],
   "source": [
    "# SQL WHERE Clause\n",
    "sql_command = \"SELECT * FROM Customers WHERE Country='Mexico';\"\n",
    "execute_select_query(sql_command)\n",
    "print()\n",
    "\n",
    "sql_command = \"SELECT * FROM Customers WHERE CustomerID=1;\"\n",
    "execute_select_query(sql_command)\n",
    "print()\n",
    "\n",
    "sql_command = \"SELECT * FROM Customers WHERE CustomerID > 80;\"\n",
    "execute_select_query(sql_command)"
   ]
  },
  {
   "cell_type": "code",
   "execution_count": 34,
   "id": "e344f28b-07c9-4783-9bd3-8901d5ed09a6",
   "metadata": {
    "scrolled": true
   },
   "outputs": [
    {
     "name": "stdout",
     "output_type": "stream",
     "text": [
      "command : SELECT * FROM Products ORDER BY Price;\n",
      "(33, 'Geitost', 15, 4, '500 g', 2.5)\n",
      "(24, 'Guaraná Fantástica', 10, 1, '12 - 355 ml cans', 4.5)\n",
      "(13, 'Konbu', 6, 8, '2 kg box', 6.0)\n",
      "(52, 'Filo Mix', 24, 5, '16 - 2 kg boxes', 7.0)\n",
      "(54, 'Tourtière', 25, 6, '16 pies', 7.45)\n",
      "\n",
      "command : SELECT * FROM Products ORDER BY Price DESC;\n",
      "(38, 'Côte de Blaye', 18, 1, '12 - 75 cl bottles', 263.5)\n",
      "(29, 'Thüringer Rostbratwurst', 12, 6, '50 bags x 30 sausgs.', 123.79)\n",
      "(9, 'Mishi Kobe Niku', 4, 6, '18 - 500 g pkgs.', 97.0)\n",
      "(20, \"Sir Rodney's Marmalade\", 8, 3, '30 gift boxes', 81.0)\n",
      "(18, 'Carnarvon Tigers', 7, 8, '16 kg pkg.', 62.5)\n",
      "\n",
      "command : SELECT * FROM Products ORDER BY ProductName;\n",
      "(17, 'Alice Mutton', 7, 6, '20 - 1 kg tins', 39.0)\n",
      "(3, 'Aniseed Syrup', 1, 2, '12 - 550 ml bottles', 10.0)\n",
      "(40, 'Boston Crab Meat', 19, 8, '24 - 4 oz tins', 18.4)\n",
      "(60, 'Camembert Pierrot', 28, 4, '15 - 300 g rounds', 34.0)\n",
      "(18, 'Carnarvon Tigers', 7, 8, '16 kg pkg.', 62.5)\n",
      "\n",
      "command : SELECT * FROM Products ORDER BY ProductName DESC;\n",
      "(47, 'Zaanse koeken', 22, 3, '10 - 4 oz boxes', 9.5)\n",
      "(64, 'Wimmers gute Semmelknödel', 12, 5, '20 bags x 4 pieces', 33.25)\n",
      "(63, 'Vegie-spread', 7, 2, '15 - 625 g jars', 43.9)\n",
      "(50, 'Valkoinen suklaa', 23, 3, '12 - 100 g bars', 16.25)\n",
      "(7, \"Uncle Bob's Organic Dried Pears\", 3, 7, '12 - 1 lb pkgs.', 30.0)\n",
      "\n",
      "command : SELECT * FROM Customers ORDER BY Country, CustomerName;\n",
      "(12, 'Cactus Comidas para llevar', 'Patricio Simpson', 'Cerrito 333', 'Buenos Aires', '1010', 'Argentina')\n",
      "(54, 'Océano Atlántico Ltda.', 'Yvonne Moncada', 'Ing. Gustavo Moncada 8585 Piso 20-A', 'Buenos Aires', '1010', 'Argentina')\n",
      "(64, 'Rancho grande', 'Sergio Gutiérrez', 'Av. del Libertador 900', 'Buenos Aires', '1010', 'Argentina')\n",
      "(20, 'Ernst Handel', 'Roland Mendel', 'Kirchgasse 6', 'Graz', '8010', 'Austria')\n",
      "(59, 'Piccolo und mehr', 'Georg Pipps', 'Geislweg 14', 'Salzburg', '5020', 'Austria')\n",
      "\n",
      "command : SELECT * FROM Customers ORDER BY Country ASC, CustomerName DESC;\n",
      "(64, 'Rancho grande', 'Sergio Gutiérrez', 'Av. del Libertador 900', 'Buenos Aires', '1010', 'Argentina')\n",
      "(54, 'Océano Atlántico Ltda.', 'Yvonne Moncada', 'Ing. Gustavo Moncada 8585 Piso 20-A', 'Buenos Aires', '1010', 'Argentina')\n",
      "(12, 'Cactus Comidas para llevar', 'Patricio Simpson', 'Cerrito 333', 'Buenos Aires', '1010', 'Argentina')\n",
      "(59, 'Piccolo und mehr', 'Georg Pipps', 'Geislweg 14', 'Salzburg', '5020', 'Austria')\n",
      "(20, 'Ernst Handel', 'Roland Mendel', 'Kirchgasse 6', 'Graz', '8010', 'Austria')\n"
     ]
    }
   ],
   "source": [
    "# SQL ORDER BY Keyword\n",
    "sql_command = \"SELECT * FROM Products ORDER BY Price;\"\n",
    "execute_select_query(sql_command)\n",
    "print()\n",
    "\n",
    "sql_command = \"SELECT * FROM Products ORDER BY Price DESC;\"\n",
    "execute_select_query(sql_command)\n",
    "print()\n",
    "\n",
    "sql_command = \"SELECT * FROM Products ORDER BY ProductName;\"\n",
    "execute_select_query(sql_command)\n",
    "print()\n",
    "\n",
    "sql_command = \"SELECT * FROM Products ORDER BY ProductName DESC;\"\n",
    "execute_select_query(sql_command)\n",
    "print()\n",
    "\n",
    "sql_command = \"SELECT * FROM Customers ORDER BY Country, CustomerName;\"\n",
    "execute_select_query(sql_command)\n",
    "print()\n",
    "\n",
    "sql_command = \"SELECT * FROM Customers ORDER BY Country ASC, CustomerName DESC;\"\n",
    "execute_select_query(sql_command)"
   ]
  },
  {
   "cell_type": "code",
   "execution_count": 38,
   "id": "68433311-cf71-4077-b6aa-b5cf991ceca9",
   "metadata": {
    "scrolled": true
   },
   "outputs": [
    {
     "name": "stdout",
     "output_type": "stream",
     "text": [
      "command : SELECT * FROM Customers WHERE Country = 'Spain' AND CustomerName LIKE 'G%';\n",
      "(29, 'Galería del gastrónomo', 'Eduardo Saavedra', 'Rambla de Cataluña, 23', 'Barcelona', '08022', 'Spain')\n",
      "(30, 'Godos Cocina Típica', 'José Pedro Freyre', 'Romero, 33', 'Sevilla', '41101', 'Spain')\n",
      "\n",
      "command : SELECT * FROM Customers WHERE Country = 'Brazil' AND City = 'Rio de Janeiro' AND CustomerID > 50;\n",
      "(61, 'Que Delícia', 'Bernardo Batista', 'Rua da Panificadora, 12', 'Rio de Janeiro', '02389-673', 'Brazil')\n",
      "(67, 'Ricardo Adocicados', 'Janete Limeira', 'Av. Copacabana, 267', 'Rio de Janeiro', '02389-890', 'Brazil')\n",
      "\n",
      "command : SELECT * FROM Customers WHERE Country = 'Spain' AND (CustomerName LIKE 'G%' OR CustomerName LIKE 'R%');\n",
      "(29, 'Galería del gastrónomo', 'Eduardo Saavedra', 'Rambla de Cataluña, 23', 'Barcelona', '08022', 'Spain')\n",
      "(30, 'Godos Cocina Típica', 'José Pedro Freyre', 'Romero, 33', 'Sevilla', '41101', 'Spain')\n",
      "(69, 'Romero y tomillo', 'Alejandra Camino', 'Gran Vía, 1', 'Madrid', '28001', 'Spain')\n",
      "\n",
      "command : SELECT * FROM Customers WHERE Country = 'Spain' AND CustomerName LIKE 'G%' OR CustomerName LIKE 'R%';\n",
      "(29, 'Galería del gastrónomo', 'Eduardo Saavedra', 'Rambla de Cataluña, 23', 'Barcelona', '08022', 'Spain')\n",
      "(30, 'Godos Cocina Típica', 'José Pedro Freyre', 'Romero, 33', 'Sevilla', '41101', 'Spain')\n",
      "(64, 'Rancho grande', 'Sergio Gutiérrez', 'Av. del Libertador 900', 'Buenos Aires', '1010', 'Argentina')\n",
      "(65, 'Rattlesnake Canyon Grocery', 'Paula Wilson', '2817 Milton Dr.', 'Albuquerque', '87110', 'USA')\n",
      "(66, 'Reggiani Caseifici', 'Maurizio Moroni', 'Strada Provinciale 124', 'Reggio Emilia', '42100', 'Italy')\n"
     ]
    }
   ],
   "source": [
    "# SQL AND Operator\n",
    "sql_command = \"SELECT * FROM Customers WHERE Country = 'Spain' AND CustomerName LIKE 'G%';\"\n",
    "execute_select_query(sql_command)\n",
    "print()\n",
    "\n",
    "sql_command = \"SELECT * FROM Customers WHERE Country = 'Brazil' AND City = 'Rio de Janeiro' AND CustomerID > 50;\"\n",
    "execute_select_query(sql_command)\n",
    "print()\n",
    "\n",
    "sql_command = \"SELECT * FROM Customers WHERE Country = 'Spain' AND (CustomerName LIKE 'G%' OR CustomerName LIKE 'R%');\"\n",
    "execute_select_query(sql_command)\n",
    "print()\n",
    "\n",
    "sql_command = \"SELECT * FROM Customers WHERE Country = 'Spain' AND CustomerName LIKE 'G%' OR CustomerName LIKE 'R%';\"\n",
    "execute_select_query(sql_command)"
   ]
  },
  {
   "cell_type": "code",
   "execution_count": 37,
   "id": "1a4549bc-5ebd-490d-ad1a-66ffab93ec0b",
   "metadata": {
    "scrolled": true
   },
   "outputs": [
    {
     "name": "stdout",
     "output_type": "stream",
     "text": [
      "command : SELECT * FROM Customers WHERE Country = 'Germany' OR Country = 'Spain';\n",
      "(1, 'Alfreds Futterkiste', 'Maria Anders', 'Obere Str. 57', 'Berlin', '12209', 'Germany')\n",
      "(6, 'Blauer See Delikatessen', 'Hanna Moos', 'Forsterstr. 57', 'Mannheim', '68306', 'Germany')\n",
      "(8, 'Bólido Comidas preparadas', 'Martín Sommer', 'Araquil, 67', 'Madrid', '28023', 'Spain')\n",
      "(17, 'Drachenblut Delikatessend', 'Sven Ottlieb', 'Walserweg 21', 'Aachen', '52066', 'Germany')\n",
      "(22, 'FISSA Fabrica Inter. Salchichas S.A.', 'Diego Roel', 'Moralzarzal, 86', 'Madrid', '28034', 'Spain')\n",
      "\n",
      "command : SELECT * FROM Customers WHERE City = 'Berlin' OR CustomerName LIKE 'G%' OR Country = 'Norway';\n",
      "(1, 'Alfreds Futterkiste', 'Maria Anders', 'Obere Str. 57', 'Berlin', '12209', 'Germany')\n",
      "(29, 'Galería del gastrónomo', 'Eduardo Saavedra', 'Rambla de Cataluña, 23', 'Barcelona', '08022', 'Spain')\n",
      "(30, 'Godos Cocina Típica', 'José Pedro Freyre', 'Romero, 33', 'Sevilla', '41101', 'Spain')\n",
      "(31, 'Gourmet Lanchonetes', 'André Fonseca', 'Av. Brasil, 442', 'Campinas', '04876-786', 'Brazil')\n",
      "(32, 'Great Lakes Food Market', 'Howard Snyder', '2732 Baker Blvd.', 'Eugene', '97403', 'USA')\n",
      "\n",
      "command : SELECT * FROM Customers WHERE Country = 'Spain' AND (CustomerName LIKE 'G%' OR CustomerName LIKE 'R%');\n",
      "(29, 'Galería del gastrónomo', 'Eduardo Saavedra', 'Rambla de Cataluña, 23', 'Barcelona', '08022', 'Spain')\n",
      "(30, 'Godos Cocina Típica', 'José Pedro Freyre', 'Romero, 33', 'Sevilla', '41101', 'Spain')\n",
      "(69, 'Romero y tomillo', 'Alejandra Camino', 'Gran Vía, 1', 'Madrid', '28001', 'Spain')\n",
      "\n",
      "command : SELECT * FROM Customers WHERE Country = 'Spain' AND CustomerName LIKE 'G%' OR CustomerName LIKE 'R%';\n",
      "(29, 'Galería del gastrónomo', 'Eduardo Saavedra', 'Rambla de Cataluña, 23', 'Barcelona', '08022', 'Spain')\n",
      "(30, 'Godos Cocina Típica', 'José Pedro Freyre', 'Romero, 33', 'Sevilla', '41101', 'Spain')\n",
      "(64, 'Rancho grande', 'Sergio Gutiérrez', 'Av. del Libertador 900', 'Buenos Aires', '1010', 'Argentina')\n",
      "(65, 'Rattlesnake Canyon Grocery', 'Paula Wilson', '2817 Milton Dr.', 'Albuquerque', '87110', 'USA')\n",
      "(66, 'Reggiani Caseifici', 'Maurizio Moroni', 'Strada Provinciale 124', 'Reggio Emilia', '42100', 'Italy')\n"
     ]
    }
   ],
   "source": [
    "# SQL OR Operator\n",
    "sql_command = \"SELECT * FROM Customers WHERE Country = 'Germany' OR Country = 'Spain';\"\n",
    "execute_select_query(sql_command)\n",
    "print()\n",
    "\n",
    "sql_command = \"SELECT * FROM Customers WHERE City = 'Berlin' OR CustomerName LIKE 'G%' OR Country = 'Norway';\"\n",
    "execute_select_query(sql_command)\n",
    "print()\n",
    "\n",
    "sql_command = \"SELECT * FROM Customers WHERE Country = 'Spain' AND (CustomerName LIKE 'G%' OR CustomerName LIKE 'R%');\"\n",
    "execute_select_query(sql_command)\n",
    "print()\n",
    "\n",
    "sql_command = \"SELECT * FROM Customers WHERE Country = 'Spain' AND CustomerName LIKE 'G%' OR CustomerName LIKE 'R%';\"\n",
    "execute_select_query(sql_command)"
   ]
  },
  {
   "cell_type": "code",
   "execution_count": 40,
   "id": "0080d245-42a9-4ba0-8b0c-fac1497a457a",
   "metadata": {
    "scrolled": true
   },
   "outputs": [
    {
     "name": "stdout",
     "output_type": "stream",
     "text": [
      "command : SELECT * FROM Customers WHERE NOT Country = 'Spain';\n",
      "(1, 'Alfreds Futterkiste', 'Maria Anders', 'Obere Str. 57', 'Berlin', '12209', 'Germany')\n",
      "(2, 'Ana Trujillo Emparedados y helados', 'Ana Trujillo', 'Avda. de la Constitución 2222', 'México D.F.', '05021', 'Mexico')\n",
      "(3, 'Antonio Moreno Taquería', 'Antonio Moreno', 'Mataderos 2312', 'México D.F.', '05023', 'Mexico')\n",
      "(4, 'Around the Horn', 'Thomas Hardy', '120 Hanover Sq.', 'London', 'WA1 1DP', 'UK')\n",
      "(5, 'Berglunds snabbköp', 'Christina Berglund', 'Berguvsvägen 8', 'Luleå', 'S-958 22', 'Sweden')\n",
      "\n",
      "command : SELECT * FROM Customers WHERE CustomerName NOT LIKE 'A%';\n",
      "(5, 'Berglunds snabbköp', 'Christina Berglund', 'Berguvsvägen 8', 'Luleå', 'S-958 22', 'Sweden')\n",
      "(6, 'Blauer See Delikatessen', 'Hanna Moos', 'Forsterstr. 57', 'Mannheim', '68306', 'Germany')\n",
      "(7, 'Blondel père et fils', 'Frédérique Citeaux', '24, place Kléber', 'Strasbourg', '67000', 'France')\n",
      "(8, 'Bólido Comidas preparadas', 'Martín Sommer', 'Araquil, 67', 'Madrid', '28023', 'Spain')\n",
      "(9, \"Bon app'\", 'Laurence Lebihans', '12, rue des Bouchers', 'Marseille', '13008', 'France')\n",
      "\n",
      "command : SELECT * FROM Customers WHERE CustomerID NOT BETWEEN 10 AND 60;\n",
      "(1, 'Alfreds Futterkiste', 'Maria Anders', 'Obere Str. 57', 'Berlin', '12209', 'Germany')\n",
      "(2, 'Ana Trujillo Emparedados y helados', 'Ana Trujillo', 'Avda. de la Constitución 2222', 'México D.F.', '05021', 'Mexico')\n",
      "(3, 'Antonio Moreno Taquería', 'Antonio Moreno', 'Mataderos 2312', 'México D.F.', '05023', 'Mexico')\n",
      "(4, 'Around the Horn', 'Thomas Hardy', '120 Hanover Sq.', 'London', 'WA1 1DP', 'UK')\n",
      "(5, 'Berglunds snabbköp', 'Christina Berglund', 'Berguvsvägen 8', 'Luleå', 'S-958 22', 'Sweden')\n",
      "\n",
      "command : SELECT * FROM Customers WHERE City NOT IN ('Paris', 'London');\n",
      "(1, 'Alfreds Futterkiste', 'Maria Anders', 'Obere Str. 57', 'Berlin', '12209', 'Germany')\n",
      "(2, 'Ana Trujillo Emparedados y helados', 'Ana Trujillo', 'Avda. de la Constitución 2222', 'México D.F.', '05021', 'Mexico')\n",
      "(3, 'Antonio Moreno Taquería', 'Antonio Moreno', 'Mataderos 2312', 'México D.F.', '05023', 'Mexico')\n",
      "(5, 'Berglunds snabbköp', 'Christina Berglund', 'Berguvsvägen 8', 'Luleå', 'S-958 22', 'Sweden')\n",
      "(6, 'Blauer See Delikatessen', 'Hanna Moos', 'Forsterstr. 57', 'Mannheim', '68306', 'Germany')\n",
      "(6, 'Blauer See Delikatessen', 'Hanna Moos', 'Forsterstr. 57', 'Mannheim', '68306', 'Germany')\n",
      "command : SELECT * FROM Customers WHERE NOT CustomerID > 50;\n",
      "(1, 'Alfreds Futterkiste', 'Maria Anders', 'Obere Str. 57', 'Berlin', '12209', 'Germany')\n",
      "(2, 'Ana Trujillo Emparedados y helados', 'Ana Trujillo', 'Avda. de la Constitución 2222', 'México D.F.', '05021', 'Mexico')\n",
      "(3, 'Antonio Moreno Taquería', 'Antonio Moreno', 'Mataderos 2312', 'México D.F.', '05023', 'Mexico')\n",
      "(4, 'Around the Horn', 'Thomas Hardy', '120 Hanover Sq.', 'London', 'WA1 1DP', 'UK')\n",
      "(5, 'Berglunds snabbköp', 'Christina Berglund', 'Berguvsvägen 8', 'Luleå', 'S-958 22', 'Sweden')\n",
      "\n",
      "command : SELECT * FROM Customers WHERE NOT CustomerId < 50;\n",
      "(50, 'Maison Dewey', 'Catherine Dewey', 'Rue Joseph-Bens 532', 'Bruxelles', 'B-1180', 'Belgium')\n",
      "(51, 'Mère Paillarde', 'Jean Fresnière', '43 rue St. Laurent', 'Montréal', 'H1J 1C3', 'Canada')\n",
      "(52, 'Morgenstern Gesundkost', 'Alexander Feuer', 'Heerstr. 22', 'Leipzig', '04179', 'Germany')\n",
      "(53, 'North/South', 'Simon Crowther', 'South House 300 Queensbridge', 'London', 'SW7 1RZ', 'UK')\n",
      "(54, 'Océano Atlántico Ltda.', 'Yvonne Moncada', 'Ing. Gustavo Moncada 8585 Piso 20-A', 'Buenos Aires', '1010', 'Argentina')\n"
     ]
    }
   ],
   "source": [
    "# SQL NOT Operator\n",
    "sql_command = \"SELECT * FROM Customers WHERE NOT Country = 'Spain';\"\n",
    "execute_select_query(sql_command)\n",
    "print()\n",
    "\n",
    "sql_command = \"SELECT * FROM Customers WHERE CustomerName NOT LIKE 'A%';\"\n",
    "execute_select_query(sql_command)\n",
    "print()\n",
    "\n",
    "sql_command = \"SELECT * FROM Customers WHERE CustomerID NOT BETWEEN 10 AND 60;\"\n",
    "execute_select_query(sql_command)\n",
    "print()\n",
    "\n",
    "sql_command = \"SELECT * FROM Customers WHERE City NOT IN ('Paris', 'London');\"\n",
    "execute_select_query(sql_command)\n",
    "print(i)\n",
    "\n",
    "sql_command = \"SELECT * FROM Customers WHERE NOT CustomerID > 50;\"\n",
    "execute_select_query(sql_command)\n",
    "print()\n",
    "\n",
    "sql_command = \"SELECT * FROM Customers WHERE NOT CustomerId < 50;\"\n",
    "execute_select_query(sql_command)"
   ]
  },
  {
   "cell_type": "code",
   "execution_count": 42,
   "id": "7666ed13-1017-40d0-a38b-47ee822e9223",
   "metadata": {},
   "outputs": [
    {
     "name": "stdout",
     "output_type": "stream",
     "text": [
      "command : INSERT INTO Customers (CustomerName, ContactName, Address, City, PostalCode, Country)\n",
      "VALUES ('Cardinal', 'Tom B. Erichsen', 'Skagen 21', 'Stavanger', '4006', 'Norway');\n",
      "command : INSERT INTO Customers (CustomerName, City, Country) VALUES ('Cardinal', 'Stavanger', 'Norway');\n",
      "command : INSERT INTO Customers (CustomerName, ContactName, Address, City, PostalCode, Country)\n",
      "VALUES\n",
      "('Cardinal', 'Tom B. Erichsen', 'Skagen 21', 'Stavanger', '4006', 'Norway'),\n",
      "('Greasy Burger', 'Per Olsen', 'Gateveien 15', 'Sandnes', '4306', 'Norway'),\n",
      "('Tasty Tee', 'Finn Egan', 'Streetroad 19B', 'Liverpool', 'L1 0AA', 'UK');\n"
     ]
    }
   ],
   "source": [
    "# SQL INSERT INTO Statement\n",
    "sql_command = \"\"\"INSERT INTO Customers (CustomerName, ContactName, Address, City, PostalCode, Country)\n",
    "VALUES ('Cardinal', 'Tom B. Erichsen', 'Skagen 21', 'Stavanger', '4006', 'Norway');\"\"\"\n",
    "cursor.execute(sql_command)\n",
    "print('command :',sql_command)\n",
    "\n",
    "sql_command = \"INSERT INTO Customers (CustomerName, City, Country) VALUES ('Cardinal', 'Stavanger', 'Norway');\"\n",
    "cursor.execute(sql_command)\n",
    "print('command :',sql_command)\n",
    "\n",
    "sql_command = \"\"\"INSERT INTO Customers (CustomerName, ContactName, Address, City, PostalCode, Country)\n",
    "VALUES\n",
    "('Cardinal', 'Tom B. Erichsen', 'Skagen 21', 'Stavanger', '4006', 'Norway'),\n",
    "('Greasy Burger', 'Per Olsen', 'Gateveien 15', 'Sandnes', '4306', 'Norway'),\n",
    "('Tasty Tee', 'Finn Egan', 'Streetroad 19B', 'Liverpool', 'L1 0AA', 'UK');\"\"\"\n",
    "cursor.execute(sql_command)\n",
    "print('command :',sql_command)"
   ]
  },
  {
   "cell_type": "code",
   "execution_count": 43,
   "id": "70eee09d-7e1e-4058-b6e3-4789aa72c79f",
   "metadata": {},
   "outputs": [
    {
     "name": "stdout",
     "output_type": "stream",
     "text": [
      "command : SELECT CustomerName, ContactName, Address FROM Customers WHERE Address IS NULL;\n",
      "('Cardinal', None, None)\n"
     ]
    }
   ],
   "source": [
    "# SQL NULL Values\n",
    "sql_command = \"SELECT CustomerName, ContactName, Address FROM Customers WHERE Address IS NULL;\"\n",
    "execute_select_query(sql_command)"
   ]
  },
  {
   "cell_type": "code",
   "execution_count": 49,
   "id": "e0fcd1aa-df54-45d2-9418-01c797f55d4e",
   "metadata": {},
   "outputs": [
    {
     "name": "stdout",
     "output_type": "stream",
     "text": [
      "command : UPDATE Customers SET ContactName = 'Alfred Schmidt', City= 'Frankfurt' WHERE CustomerID = 1;\n"
     ]
    }
   ],
   "source": [
    "# SQL UPDATE Statement\n",
    "sql_command = \"UPDATE Customers SET ContactName = 'Alfred Schmidt', City= 'Frankfurt' WHERE CustomerID = 1;\"\n",
    "cursor.execute(sql_command)\n",
    "print('command :',sql_command)"
   ]
  },
  {
   "cell_type": "code",
   "execution_count": 52,
   "id": "18f1377a-1e87-47fc-a689-c88edbe1e832",
   "metadata": {},
   "outputs": [
    {
     "name": "stdout",
     "output_type": "stream",
     "text": [
      "command : DELETE FROM Customers WHERE CustomerName='Alfreds Futterkiste';\n"
     ]
    }
   ],
   "source": [
    "# SQL DELETE Statement\n",
    "sql_command = \"DELETE FROM Customers WHERE CustomerName='Alfreds Futterkiste';\"\n",
    "cursor.execute(sql_command)\n",
    "print('command :',sql_command)"
   ]
  },
  {
   "cell_type": "code",
   "execution_count": 66,
   "id": "ca6bfed7-54a2-4afa-866e-f9fa92c1a43e",
   "metadata": {},
   "outputs": [
    {
     "name": "stdout",
     "output_type": "stream",
     "text": [
      "command : SELECT * FROM Customers LIMIT 3;\n",
      "(2, 'Ana Trujillo Emparedados y helados', 'Ana Trujillo', 'Avda. de la Constitución 2222', 'México D.F.', '05021', 'Mexico')\n",
      "(3, 'Antonio Moreno Taquería', 'Antonio Moreno', 'Mataderos 2312', 'México D.F.', '05023', 'Mexico')\n",
      "(4, 'Around the Horn', 'Thomas Hardy', '120 Hanover Sq.', 'London', 'WA1 1DP', 'UK')\n",
      "\n",
      "command : SELECT * FROM Customers ORDER BY CustomerName DESC LIMIT 3;\n",
      "(91, 'Wolski', 'Zbyszek', 'ul. Filtrowa 68', 'Walla', '01-012', 'Poland')\n",
      "(90, 'Wilman Kala', 'Matti Karttunen', 'Keskuskatu 45', 'Helsinki', '21240', 'Finland')\n",
      "(89, 'White Clover Markets', 'Karl Jablonski', '305 - 14th Ave. S. Suite 3B', 'Seattle', '98128', 'USA')\n"
     ]
    }
   ],
   "source": [
    "# SQL TOP, LIMIT, FETCH FIRST or ROWNUM Clause\n",
    "sql_command = \"SELECT * FROM Customers LIMIT 3;\"\n",
    "execute_select_query(sql_command)\n",
    "print()\n",
    "\n",
    "sql_command = \"SELECT * FROM Customers ORDER BY CustomerName DESC LIMIT 3;\"\n",
    "execute_select_query(sql_command)"
   ]
  },
  {
   "cell_type": "code",
   "execution_count": 68,
   "id": "828d1e18-f83b-4231-9061-6a8bdbaff35f",
   "metadata": {},
   "outputs": [
    {
     "name": "stdout",
     "output_type": "stream",
     "text": [
      "command : SELECT MIN(Price) FROM Products;\n",
      "(2.5,)\n",
      "\n",
      "command : SELECT MAX(Price) FROM Products;\n",
      "(263.5,)\n",
      "\n",
      "command : SELECT MIN(Price) AS SmallestPrice FROM Products;\n",
      "(2.5,)\n",
      "\n",
      "command : SELECT MIN(Price) AS SmallestPrice, CategoryID FROM Products GROUP BY CategoryID;\n",
      "(4.5, 1)\n",
      "(10.0, 2)\n",
      "(9.2, 3)\n",
      "(2.5, 4)\n",
      "(7.0, 5)\n"
     ]
    }
   ],
   "source": [
    "# SQL MIN() and MAX() Functions\n",
    "sql_command = \"SELECT MIN(Price) FROM Products;\"\n",
    "execute_select_query(sql_command)\n",
    "print()\n",
    "\n",
    "sql_command = \"SELECT MAX(Price) FROM Products;\"\n",
    "execute_select_query(sql_command)\n",
    "print()\n",
    "\n",
    "sql_command = \"SELECT MIN(Price) AS SmallestPrice FROM Products;\"\n",
    "execute_select_query(sql_command)\n",
    "print()\n",
    "\n",
    "sql_command = \"SELECT MIN(Price) AS SmallestPrice, CategoryID FROM Products GROUP BY CategoryID;\"\n",
    "execute_select_query(sql_command)"
   ]
  },
  {
   "cell_type": "code",
   "execution_count": 69,
   "id": "603b837f-bd51-419d-a5be-71dfe1eaf11a",
   "metadata": {},
   "outputs": [
    {
     "name": "stdout",
     "output_type": "stream",
     "text": [
      "command : SELECT COUNT(*) FROM Products;\n",
      "(77,)\n",
      "\n",
      "command : SELECT COUNT(ProductName) FROM Products;\n",
      "(77,)\n",
      "\n",
      "command : SELECT COUNT(ProductID) FROM Products WHERE Price > 20;\n",
      "(37,)\n",
      "\n",
      "command : SELECT COUNT(*) AS [Number of records], CategoryID FROM Products GROUP BY CategoryID;\n",
      "(12, 1)\n",
      "(12, 2)\n",
      "(13, 3)\n",
      "(10, 4)\n",
      "(7, 5)\n"
     ]
    }
   ],
   "source": [
    "# SQL COUNT() Function\n",
    "sql_command = \"SELECT COUNT(*) FROM Products;\"\n",
    "execute_select_query(sql_command)\n",
    "print()\n",
    "\n",
    "sql_command = \"SELECT COUNT(ProductName) FROM Products;\"\n",
    "execute_select_query(sql_command)\n",
    "print()\n",
    "\n",
    "sql_command = \"SELECT COUNT(ProductID) FROM Products WHERE Price > 20;\"\n",
    "execute_select_query(sql_command)\n",
    "print()\n",
    "\n",
    "sql_command = \"SELECT COUNT(*) AS [Number of records], CategoryID FROM Products GROUP BY CategoryID;\"\n",
    "execute_select_query(sql_command)"
   ]
  },
  {
   "cell_type": "code",
   "execution_count": 75,
   "id": "ec45a39c-c6a7-4b3a-8911-42c21a0f9690",
   "metadata": {},
   "outputs": [
    {
     "name": "stdout",
     "output_type": "stream",
     "text": [
      "command : SELECT SUM(Quantity) FROM OrderDetails;\n",
      "(12743,)\n",
      "\n",
      "command : SELECT OrderID, SUM(Quantity) AS [Total Quantity] FROM OrderDetails GROUP BY OrderID;\n",
      "(10248, 27)\n",
      "(10249, 49)\n",
      "(10250, 60)\n",
      "(10251, 41)\n",
      "(10252, 105)\n",
      "\n",
      "command : SELECT SUM(Price * Quantity) FROM OrderDetails LEFT JOIN Products ON OrderDetails.ProductID = Products.ProductID;\n",
      "(386424.23,)\n"
     ]
    }
   ],
   "source": [
    "# SQL SUM() Function\n",
    "sql_command = \"SELECT SUM(Quantity) FROM OrderDetails;\"\n",
    "execute_select_query(sql_command)\n",
    "print()\n",
    "\n",
    "sql_command = \"SELECT OrderID, SUM(Quantity) AS [Total Quantity] FROM OrderDetails GROUP BY OrderID;\"\n",
    "execute_select_query(sql_command)\n",
    "print()\n",
    "\n",
    "sql_command = \"SELECT SUM(Price * Quantity) FROM OrderDetails LEFT JOIN Products ON OrderDetails.ProductID = Products.ProductID;\"\n",
    "execute_select_query(sql_command)"
   ]
  },
  {
   "cell_type": "code",
   "execution_count": 76,
   "id": "3bd8869a-1298-4a18-b9af-10c3da224c34",
   "metadata": {},
   "outputs": [
    {
     "name": "stdout",
     "output_type": "stream",
     "text": [
      "command : SELECT AVG(Price) FROM Products;\n",
      "(28.866363636363637,)\n",
      "\n",
      "command : SELECT AVG(Price) FROM Products WHERE CategoryID = 1;\n",
      "(37.979166666666664,)\n",
      "\n",
      "command : SELECT * FROM Products WHERE price > (SELECT AVG(price) FROM Products);\n",
      "(7, \"Uncle Bob's Organic Dried Pears\", 3, 7, '12 - 1 lb pkgs.', 30.0)\n",
      "(8, 'Northwoods Cranberry Sauce', 3, 2, '12 - 12 oz jars', 40.0)\n",
      "(9, 'Mishi Kobe Niku', 4, 6, '18 - 500 g pkgs.', 97.0)\n",
      "(10, 'Ikura', 4, 8, '12 - 200 ml jars', 31.0)\n",
      "(12, 'Queso Manchego La Pastora', 5, 4, '10 - 500 g pkgs.', 38.0)\n"
     ]
    }
   ],
   "source": [
    "# SQL AVG() Function\n",
    "sql_command = \"SELECT AVG(Price) FROM Products;\"\n",
    "execute_select_query(sql_command)\n",
    "print()\n",
    "\n",
    "sql_command = \"SELECT AVG(Price) FROM Products WHERE CategoryID = 1;\"\n",
    "execute_select_query(sql_command)\n",
    "print()\n",
    "\n",
    "sql_command = \"SELECT * FROM Products WHERE price > (SELECT AVG(price) FROM Products);\"\n",
    "execute_select_query(sql_command)"
   ]
  },
  {
   "cell_type": "code",
   "execution_count": 78,
   "id": "d067dc36-1b50-4adb-960b-8e542b79e599",
   "metadata": {
    "scrolled": true
   },
   "outputs": [
    {
     "name": "stdout",
     "output_type": "stream",
     "text": [
      "command : SELECT * FROM Customers WHERE CustomerName LIKE 'a%';\n",
      "(2, 'Ana Trujillo Emparedados y helados', 'Ana Trujillo', 'Avda. de la Constitución 2222', 'México D.F.', '05021', 'Mexico')\n",
      "(3, 'Antonio Moreno Taquería', 'Antonio Moreno', 'Mataderos 2312', 'México D.F.', '05023', 'Mexico')\n",
      "(4, 'Around the Horn', 'Thomas Hardy', '120 Hanover Sq.', 'London', 'WA1 1DP', 'UK')\n",
      "\n",
      "command : SELECT * FROM Customers WHERE city LIKE '%L%';\n",
      "(4, 'Around the Horn', 'Thomas Hardy', '120 Hanover Sq.', 'London', 'WA1 1DP', 'UK')\n",
      "(5, 'Berglunds snabbköp', 'Christina Berglund', 'Berguvsvägen 8', 'Luleå', 'S-958 22', 'Sweden')\n",
      "(9, \"Bon app'\", 'Laurence Lebihans', '12, rue des Bouchers', 'Marseille', '13008', 'France')\n",
      "(11, \"B's Beverages\", 'Victoria Ashworth', 'Fauntleroy Circus', 'London', 'EC2 5NT', 'UK')\n",
      "(15, 'Comércio Mineiro', 'Pedro Afonso', 'Av. dos Lusíadas, 23', 'São Paulo', '05432-043', 'Brazil')\n",
      "\n",
      "command : SELECT * FROM Customers WHERE CustomerName LIKE '%a';\n",
      "(3, 'Antonio Moreno Taquería', 'Antonio Moreno', 'Mataderos 2312', 'México D.F.', '05023', 'Mexico')\n",
      "(13, 'Centro comercial Moctezuma', 'Francisco Chang', 'Sierras de Granada 9993', 'México D.F.', '05022', 'Mexico')\n",
      "(30, 'Godos Cocina Típica', 'José Pedro Freyre', 'Romero, 33', 'Sevilla', '41101', 'Spain')\n",
      "(61, 'Que Delícia', 'Bernardo Batista', 'Rua da Panificadora, 12', 'Rio de Janeiro', '02389-673', 'Brazil')\n",
      "(62, 'Queen Cozinha', 'Lúcia Carvalho', 'Alameda dos Canàrios, 891', 'São Paulo', '05487-020', 'Brazil')\n",
      "\n",
      "command : SELECT * FROM Customers WHERE CustomerName LIKE 'a__%';\n",
      "(2, 'Ana Trujillo Emparedados y helados', 'Ana Trujillo', 'Avda. de la Constitución 2222', 'México D.F.', '05021', 'Mexico')\n",
      "(3, 'Antonio Moreno Taquería', 'Antonio Moreno', 'Mataderos 2312', 'México D.F.', '05023', 'Mexico')\n",
      "(4, 'Around the Horn', 'Thomas Hardy', '120 Hanover Sq.', 'London', 'WA1 1DP', 'UK')\n"
     ]
    }
   ],
   "source": [
    "# SQL LIKE Operator\n",
    "sql_command = \"SELECT * FROM Customers WHERE CustomerName LIKE 'a%';\"\n",
    "execute_select_query(sql_command)\n",
    "print()\n",
    "\n",
    "sql_command = \"SELECT * FROM Customers WHERE city LIKE '%L%';\"\n",
    "execute_select_query(sql_command)\n",
    "print()\n",
    "\n",
    "sql_command = \"SELECT * FROM Customers WHERE CustomerName LIKE '%a';\"\n",
    "execute_select_query(sql_command)\n",
    "print()\n",
    "\n",
    "sql_command = \"SELECT * FROM Customers WHERE CustomerName LIKE 'a__%';\"\n",
    "execute_select_query(sql_command)"
   ]
  },
  {
   "cell_type": "code",
   "execution_count": 85,
   "id": "2201387f-5e4b-4470-a999-f89a8ad4e76a",
   "metadata": {},
   "outputs": [
    {
     "name": "stdout",
     "output_type": "stream",
     "text": [
      "command : SELECT * FROM Customers WHERE CustomerName LIKE '[bsp]%';\n",
      "\n",
      "command : SELECT * FROM Customers WHERE CustomerName LIKE '[a-f]%';\n"
     ]
    }
   ],
   "source": [
    "# SQL Wildcards\n",
    "sql_command = \"SELECT * FROM Customers WHERE CustomerName LIKE '[bsp]%';\"\n",
    "execute_select_query(sql_command)\n",
    "print()\n",
    "\n",
    "sql_command = \"SELECT * FROM Customers WHERE CustomerName LIKE '[a-f]%';\"\n",
    "execute_select_query(sql_command)"
   ]
  },
  {
   "cell_type": "code",
   "execution_count": 87,
   "id": "4df40330-9d10-4a65-9c46-b1522e3def11",
   "metadata": {
    "scrolled": true
   },
   "outputs": [
    {
     "name": "stdout",
     "output_type": "stream",
     "text": [
      "command : SELECT * FROM Customers WHERE Country IN ('Germany', 'France', 'UK');\n",
      "(4, 'Around the Horn', 'Thomas Hardy', '120 Hanover Sq.', 'London', 'WA1 1DP', 'UK')\n",
      "(6, 'Blauer See Delikatessen', 'Hanna Moos', 'Forsterstr. 57', 'Mannheim', '68306', 'Germany')\n",
      "(7, 'Blondel père et fils', 'Frédérique Citeaux', '24, place Kléber', 'Strasbourg', '67000', 'France')\n",
      "(9, \"Bon app'\", 'Laurence Lebihans', '12, rue des Bouchers', 'Marseille', '13008', 'France')\n",
      "(11, \"B's Beverages\", 'Victoria Ashworth', 'Fauntleroy Circus', 'London', 'EC2 5NT', 'UK')\n",
      "\n",
      "command : SELECT * FROM Customers WHERE Country NOT IN ('Germany', 'France', 'UK');\n",
      "(2, 'Ana Trujillo Emparedados y helados', 'Ana Trujillo', 'Avda. de la Constitución 2222', 'México D.F.', '05021', 'Mexico')\n",
      "(3, 'Antonio Moreno Taquería', 'Antonio Moreno', 'Mataderos 2312', 'México D.F.', '05023', 'Mexico')\n",
      "(5, 'Berglunds snabbköp', 'Christina Berglund', 'Berguvsvägen 8', 'Luleå', 'S-958 22', 'Sweden')\n",
      "(8, 'Bólido Comidas preparadas', 'Martín Sommer', 'Araquil, 67', 'Madrid', '28023', 'Spain')\n",
      "(10, 'Bottom-Dollar Marketse', 'Elizabeth Lincoln', '23 Tsawassen Blvd.', 'Tsawassen', 'T2F 8M4', 'Canada')\n"
     ]
    }
   ],
   "source": [
    "# SQL IN Operator\n",
    "sql_command = \"SELECT * FROM Customers WHERE Country IN ('Germany', 'France', 'UK');\"\n",
    "execute_select_query(sql_command)\n",
    "print()\n",
    "\n",
    "sql_command = \"SELECT * FROM Customers WHERE Country NOT IN ('Germany', 'France', 'UK');\"\n",
    "execute_select_query(sql_command)"
   ]
  },
  {
   "cell_type": "code",
   "execution_count": 98,
   "id": "9911dacf-54f0-425b-af01-bdb6e8bbd858",
   "metadata": {},
   "outputs": [
    {
     "name": "stdout",
     "output_type": "stream",
     "text": [
      "command : SELECT * FROM Products WHERE Price BETWEEN 10 AND 20;\n",
      "(1, 'Chais', 1, 1, '10 boxes x 20 bags', 18.0)\n",
      "(2, 'Chang', 1, 1, '24 - 12 oz bottles', 19.0)\n",
      "(3, 'Aniseed Syrup', 1, 2, '12 - 550 ml bottles', 10.0)\n",
      "(15, 'Genen Shouyu', 6, 2, '24 - 250 ml bottles', 15.5)\n",
      "(16, 'Pavlova', 7, 3, '32 - 500 g boxes', 17.45)\n",
      "\n",
      "command : SELECT * FROM Products WHERE ProductName BETWEEN 'Carnarvon Tigers' AND 'Mozzarella di Giovanni' ORDER BY ProductName;\n",
      "(18, 'Carnarvon Tigers', 7, 8, '16 kg pkg.', 62.5)\n",
      "(1, 'Chais', 1, 1, '10 boxes x 20 bags', 18.0)\n",
      "(2, 'Chang', 1, 1, '24 - 12 oz bottles', 19.0)\n",
      "(39, 'Chartreuse verte', 18, 1, '750 cc per bottle', 18.0)\n",
      "(4, \"Chef Anton's Cajun Seasoning\", 2, 2, '48 - 6 oz jars', 22.0)\n"
     ]
    }
   ],
   "source": [
    "# SQL BETWEEN Operator\n",
    "sql_command = \"SELECT * FROM Products WHERE Price BETWEEN 10 AND 20;\"\n",
    "execute_select_query(sql_command)\n",
    "print()\n",
    "\n",
    "sql_command = \"SELECT * FROM Products WHERE ProductName BETWEEN 'Carnarvon Tigers' AND 'Mozzarella di Giovanni' ORDER BY ProductName;\"\n",
    "execute_select_query(sql_command)"
   ]
  },
  {
   "cell_type": "code",
   "execution_count": 103,
   "id": "965d2f86-bc04-4d94-bedd-02d6c38f57d9",
   "metadata": {},
   "outputs": [
    {
     "name": "stdout",
     "output_type": "stream",
     "text": [
      "command : SELECT CustomerID AS ID FROM Customers;\n",
      "(2,)\n",
      "(3,)\n",
      "(4,)\n",
      "(5,)\n",
      "(6,)\n",
      "\n",
      "command : SELECT ProductName AS \"My Great Products\" FROM Products;\n",
      "('Chais',)\n",
      "('Chang',)\n",
      "('Aniseed Syrup',)\n",
      "(\"Chef Anton's Cajun Seasoning\",)\n",
      "(\"Chef Anton's Gumbo Mix\",)\n"
     ]
    }
   ],
   "source": [
    "# SQL Aliases\n",
    "sql_command = \"SELECT CustomerID AS ID FROM Customers;\"\n",
    "execute_select_query(sql_command)\n",
    "print()\n",
    "\n",
    "sql_command = 'SELECT ProductName AS \"My Great Products\" FROM Products;'\n",
    "execute_select_query(sql_command)"
   ]
  },
  {
   "cell_type": "code",
   "execution_count": 108,
   "id": "e5ee799f-cdda-453f-92c2-bb794210110c",
   "metadata": {},
   "outputs": [
    {
     "name": "stdout",
     "output_type": "stream",
     "text": [
      "command : SELECT ProductID, ProductName, CategoryName FROM Products INNER JOIN Categories ON Products.CategoryID = Categories.CategoryID;\n",
      "(1, 'Chais', 'Beverages')\n",
      "(2, 'Chang', 'Beverages')\n",
      "(3, 'Aniseed Syrup', 'Condiments')\n",
      "(4, \"Chef Anton's Cajun Seasoning\", 'Condiments')\n",
      "(5, \"Chef Anton's Gumbo Mix\", 'Condiments')\n",
      "\n",
      "command : SELECT Products.ProductID, Products.ProductName, Categories.CategoryName FROM Products INNER JOIN Categories ON Products.CategoryID = Categories.CategoryID;\n",
      "(1, 'Chais', 'Beverages')\n",
      "(2, 'Chang', 'Beverages')\n",
      "(3, 'Aniseed Syrup', 'Condiments')\n",
      "(4, \"Chef Anton's Cajun Seasoning\", 'Condiments')\n",
      "(5, \"Chef Anton's Gumbo Mix\", 'Condiments')\n"
     ]
    }
   ],
   "source": [
    "# SQL INNER JOIN\n",
    "sql_command = \"SELECT ProductID, ProductName, CategoryName FROM Products INNER JOIN Categories ON Products.CategoryID = Categories.CategoryID;\"\n",
    "execute_select_query(sql_command)\n",
    "print()\n",
    "\n",
    "sql_command = 'SELECT Products.ProductID, Products.ProductName, Categories.CategoryName FROM Products INNER JOIN Categories ON Products.CategoryID = Categories.CategoryID;'\n",
    "execute_select_query(sql_command)"
   ]
  },
  {
   "cell_type": "code",
   "execution_count": 110,
   "id": "33562cdb-072e-4cfc-9e25-f834c5a4158c",
   "metadata": {},
   "outputs": [
    {
     "name": "stdout",
     "output_type": "stream",
     "text": [
      "command : SELECT Customers.CustomerName, Orders.OrderID FROM Customers\n",
      "LEFT JOIN Orders ON Customers.CustomerID = Orders.CustomerID\n",
      "ORDER BY Customers.CustomerName;\n",
      "('Ana Trujillo Emparedados y helados', 10308)\n",
      "('Antonio Moreno Taquería', 10365)\n",
      "('Around the Horn', 10355)\n",
      "('Around the Horn', 10383)\n",
      "(\"B's Beverages\", 10289)\n"
     ]
    }
   ],
   "source": [
    "# SQL LEFT JOIN Keyword\n",
    "sql_command = \"\"\"SELECT Customers.CustomerName, Orders.OrderID FROM Customers\n",
    "LEFT JOIN Orders ON Customers.CustomerID = Orders.CustomerID\n",
    "ORDER BY Customers.CustomerName;\"\"\"\n",
    "execute_select_query(sql_command)"
   ]
  },
  {
   "cell_type": "code",
   "execution_count": 114,
   "id": "a94a99f1-f1d9-405e-9b51-cc11c985babf",
   "metadata": {},
   "outputs": [
    {
     "name": "stdout",
     "output_type": "stream",
     "text": [
      "command : SELECT Orders.OrderID, Employees.LastName, Employees.FirstName FROM Orders\n",
      "RIGHT JOIN Employees ON Orders.EmployeeID = Employees.EmployeeID\n",
      "ORDER BY Orders.OrderID;\n",
      "(None, 'West', 'Adam')\n",
      "(10248, 'Buchanan', 'Steven')\n",
      "(10249, 'Suyama', 'Michael')\n",
      "(10250, 'Peacock', 'Margaret')\n",
      "(10251, 'Leverling', 'Janet')\n"
     ]
    }
   ],
   "source": [
    "# SQL RIGHT JOIN Keyword\n",
    "sql_command = \"\"\"SELECT Orders.OrderID, Employees.LastName, Employees.FirstName FROM Orders\n",
    "RIGHT JOIN Employees ON Orders.EmployeeID = Employees.EmployeeID\n",
    "ORDER BY Orders.OrderID;\"\"\"\n",
    "execute_select_query(sql_command)"
   ]
  },
  {
   "cell_type": "code",
   "execution_count": 115,
   "id": "986fc5c4-2950-467a-9361-baa98a2e48cf",
   "metadata": {},
   "outputs": [
    {
     "name": "stdout",
     "output_type": "stream",
     "text": [
      "command : SELECT Customers.CustomerName, Orders.OrderID FROM Customers\n",
      "FULL OUTER JOIN Orders ON Customers.CustomerID=Orders.CustomerID\n",
      "ORDER BY Customers.CustomerName;\n",
      "('Ana Trujillo Emparedados y helados', 10308)\n",
      "('Antonio Moreno Taquería', 10365)\n",
      "('Around the Horn', 10355)\n",
      "('Around the Horn', 10383)\n",
      "(\"B's Beverages\", 10289)\n"
     ]
    }
   ],
   "source": [
    "# SQL FULL OUTER JOIN Keyword\n",
    "sql_command = \"\"\"SELECT Customers.CustomerName, Orders.OrderID FROM Customers\n",
    "FULL OUTER JOIN Orders ON Customers.CustomerID=Orders.CustomerID\n",
    "ORDER BY Customers.CustomerName;\"\"\"\n",
    "execute_select_query(sql_command)"
   ]
  },
  {
   "cell_type": "code",
   "execution_count": 117,
   "id": "2f68088e-7be3-4d05-a085-97513b479762",
   "metadata": {},
   "outputs": [
    {
     "name": "stdout",
     "output_type": "stream",
     "text": [
      "command : SELECT A.CustomerName AS CustomerName1, B.CustomerName AS CustomerName2, A.City FROM Customers A, Customers B\n",
      "WHERE A.CustomerID <> B.CustomerID\n",
      "AND A.City = B.City\n",
      "ORDER BY A.City;\n",
      "('Cactus Comidas para llevar', 'Océano Atlántico Ltda.', 'Buenos Aires')\n",
      "('Cactus Comidas para llevar', 'Rancho grande', 'Buenos Aires')\n",
      "('Océano Atlántico Ltda.', 'Cactus Comidas para llevar', 'Buenos Aires')\n",
      "('Océano Atlántico Ltda.', 'Rancho grande', 'Buenos Aires')\n",
      "('Rancho grande', 'Cactus Comidas para llevar', 'Buenos Aires')\n"
     ]
    }
   ],
   "source": [
    "# SQL Self Join\n",
    "sql_command = \"\"\"SELECT A.CustomerName AS CustomerName1, B.CustomerName AS CustomerName2, A.City FROM Customers A, Customers B\n",
    "WHERE A.CustomerID <> B.CustomerID\n",
    "AND A.City = B.City\n",
    "ORDER BY A.City;\"\"\"\n",
    "execute_select_query(sql_command)"
   ]
  },
  {
   "cell_type": "code",
   "execution_count": 118,
   "id": "e6b9bae7-1c91-433a-b2e2-86289cb0d937",
   "metadata": {},
   "outputs": [
    {
     "name": "stdout",
     "output_type": "stream",
     "text": [
      "command : SELECT City FROM Customers\n",
      "UNION ALL\n",
      "SELECT City FROM Customers\n",
      "ORDER BY City;\n",
      "('Aachen',)\n",
      "('Aachen',)\n",
      "('Albuquerque',)\n",
      "('Albuquerque',)\n",
      "('Anchorage',)\n"
     ]
    }
   ],
   "source": [
    "# SQL UNION Operator\n",
    "sql_command = \"\"\"SELECT City FROM Customers\n",
    "UNION ALL\n",
    "SELECT City FROM Customers\n",
    "ORDER BY City;\"\"\"\n",
    "execute_select_query(sql_command)"
   ]
  },
  {
   "cell_type": "code",
   "execution_count": 122,
   "id": "0168befb-78ae-4874-8634-f621413e33e2",
   "metadata": {},
   "outputs": [
    {
     "name": "stdout",
     "output_type": "stream",
     "text": [
      "command : SELECT COUNT(CustomerID), Country FROM Customers\n",
      "GROUP BY Country\n",
      "ORDER BY COUNT(CustomerID) DESC;\n",
      "(13, 'USA')\n",
      "(11, 'France')\n",
      "(10, 'Germany')\n",
      "(9, 'Brazil')\n",
      "(7, 'UK')\n"
     ]
    }
   ],
   "source": [
    "# SQL GROUP BY Statement\n",
    "sql_command = \"\"\"SELECT COUNT(CustomerID), Country FROM Customers\n",
    "GROUP BY Country\n",
    "ORDER BY COUNT(CustomerID) DESC;\"\"\"\n",
    "execute_select_query(sql_command)"
   ]
  },
  {
   "cell_type": "code",
   "execution_count": 123,
   "id": "91bdea19-cfe6-4158-a676-8bddafb7dc18",
   "metadata": {},
   "outputs": [
    {
     "name": "stdout",
     "output_type": "stream",
     "text": [
      "command : SELECT COUNT(CustomerID), Country FROM Customers\n",
      "GROUP BY Country\n",
      "HAVING COUNT(CustomerID) > 5\n",
      "ORDER BY COUNT(CustomerID) DESC;\n",
      "(13, 'USA')\n",
      "(11, 'France')\n",
      "(10, 'Germany')\n",
      "(9, 'Brazil')\n",
      "(7, 'UK')\n"
     ]
    }
   ],
   "source": [
    "# SQL HAVING Clause\n",
    "sql_command = \"\"\"SELECT COUNT(CustomerID), Country FROM Customers\n",
    "GROUP BY Country\n",
    "HAVING COUNT(CustomerID) > 5\n",
    "ORDER BY COUNT(CustomerID) DESC;\"\"\"\n",
    "execute_select_query(sql_command)"
   ]
  },
  {
   "cell_type": "code",
   "execution_count": 136,
   "id": "d9a7d89b-99a4-4f97-8e1c-202df8a17594",
   "metadata": {},
   "outputs": [
    {
     "name": "stdout",
     "output_type": "stream",
     "text": [
      "command : SELECT ProductName FROM Products\n",
      "WHERE EXISTS (SELECT ProductName FROM Products WHERE ProductID = 20)\n",
      "('Chais',)\n",
      "('Chang',)\n",
      "('Aniseed Syrup',)\n",
      "(\"Chef Anton's Cajun Seasoning\",)\n",
      "(\"Chef Anton's Gumbo Mix\",)\n"
     ]
    }
   ],
   "source": [
    "# SQL HAVING Clause\n",
    "sql_command = \"\"\"SELECT ProductName FROM Products\n",
    "WHERE EXISTS (SELECT ProductName FROM Products WHERE ProductID = 20)\"\"\"\n",
    "execute_select_query(sql_command)"
   ]
  },
  {
   "cell_type": "code",
   "execution_count": 140,
   "id": "bfad5794-6574-4e02-a9bd-13269df8e6e4",
   "metadata": {},
   "outputs": [
    {
     "name": "stdout",
     "output_type": "stream",
     "text": [
      "command : SELECT ProductName FROM Products\n",
      "WHERE EXISTS (SELECT ProductName FROM Products WHERE ProductID = 20);\n",
      "('Chais',)\n",
      "('Chang',)\n",
      "('Aniseed Syrup',)\n",
      "(\"Chef Anton's Cajun Seasoning\",)\n",
      "(\"Chef Anton's Gumbo Mix\",)\n"
     ]
    }
   ],
   "source": [
    "# SQL EXISTS Operator\n",
    "sql_command = \"\"\"SELECT ProductName FROM Products\n",
    "WHERE EXISTS (SELECT ProductName FROM Products WHERE ProductID = 20);\"\"\"\n",
    "execute_select_query(sql_command)"
   ]
  },
  {
   "cell_type": "code",
   "execution_count": 150,
   "id": "eaa283d7-d6bd-4ad0-9a02-28ea9b66d185",
   "metadata": {},
   "outputs": [
    {
     "name": "stdout",
     "output_type": "stream",
     "text": [
      "command : SELECT ProductName FROM Products\n",
      "WHERE ProductID IN\n",
      "  (SELECT ProductID\n",
      "  FROM OrderDetails\n",
      "  WHERE Quantity = 10);\n",
      "('Chais',)\n",
      "('Chang',)\n",
      "(\"Chef Anton's Cajun Seasoning\",)\n",
      "(\"Uncle Bob's Organic Dried Pears\",)\n",
      "('Konbu',)\n"
     ]
    }
   ],
   "source": [
    "# SQL ANY and ALL Operators, SQLite는 ANY/ALL 지원 X\n",
    "sql_command = \"\"\"SELECT ProductName FROM Products\n",
    "WHERE ProductID IN\n",
    "  (SELECT ProductID\n",
    "  FROM OrderDetails\n",
    "  WHERE Quantity = 10);\"\"\"\n",
    "execute_select_query(sql_command)"
   ]
  },
  {
   "cell_type": "code",
   "execution_count": 152,
   "id": "d3830ffb-b7b2-4d23-9e57-0cf0d9df6ead",
   "metadata": {},
   "outputs": [
    {
     "name": "stdout",
     "output_type": "stream",
     "text": [
      "command : SELECT OrderID, Quantity,\n",
      "CASE\n",
      "    WHEN Quantity > 30 THEN 'The quantity is greater than 30'\n",
      "    WHEN Quantity = 30 THEN 'The quantity is 30'\n",
      "    ELSE 'The quantity is under 30'\n",
      "END AS QuantityText\n",
      "FROM OrderDetails;\n",
      "(10248, 12, 'The quantity is under 30')\n",
      "(10248, 10, 'The quantity is under 30')\n",
      "(10248, 5, 'The quantity is under 30')\n",
      "(10249, 9, 'The quantity is under 30')\n",
      "(10249, 40, 'The quantity is greater than 30')\n"
     ]
    }
   ],
   "source": [
    "# SQL CASE Expression\n",
    "sql_command = \"\"\"SELECT OrderID, Quantity,\n",
    "CASE\n",
    "    WHEN Quantity > 30 THEN 'The quantity is greater than 30'\n",
    "    WHEN Quantity = 30 THEN 'The quantity is 30'\n",
    "    ELSE 'The quantity is under 30'\n",
    "END AS QuantityText\n",
    "FROM OrderDetails;\"\"\"\n",
    "execute_select_query(sql_command)"
   ]
  },
  {
   "cell_type": "code",
   "execution_count": 152,
   "id": "1b7872fe-c22a-4b5b-a820-036299d63ea1",
   "metadata": {},
   "outputs": [
    {
     "name": "stdout",
     "output_type": "stream",
     "text": [
      "command : SELECT OrderID, Quantity,\n",
      "CASE\n",
      "    WHEN Quantity > 30 THEN 'The quantity is greater than 30'\n",
      "    WHEN Quantity = 30 THEN 'The quantity is 30'\n",
      "    ELSE 'The quantity is under 30'\n",
      "END AS QuantityText\n",
      "FROM OrderDetails;\n",
      "(10248, 12, 'The quantity is under 30')\n",
      "(10248, 10, 'The quantity is under 30')\n",
      "(10248, 5, 'The quantity is under 30')\n",
      "(10249, 9, 'The quantity is under 30')\n",
      "(10249, 40, 'The quantity is greater than 30')\n"
     ]
    }
   ],
   "source": [
    "# SQL CASE Expression\n",
    "sql_command = \"\"\"SELECT OrderID, Quantity,\n",
    "CASE\n",
    "    WHEN Quantity > 30 THEN 'The quantity is greater than 30'\n",
    "    WHEN Quantity = 30 THEN 'The quantity is 30'\n",
    "    ELSE 'The quantity is under 30'\n",
    "END AS QuantityText\n",
    "FROM OrderDetails;\"\"\"\n",
    "execute_select_query(sql_command)"
   ]
  },
  {
   "cell_type": "code",
   "execution_count": 160,
   "id": "a4e2f020-1422-4133-ba4d-513e8672ee5c",
   "metadata": {},
   "outputs": [
    {
     "name": "stdout",
     "output_type": "stream",
     "text": [
      "command : /*Select all the columns\n",
      "of all the records\n",
      "in the Customers table:*/\n",
      "SELECT * FROM Customers;\n",
      "(2, 'Ana Trujillo Emparedados y helados', 'Ana Trujillo', 'Avda. de la Constitución 2222', 'México D.F.', '05021', 'Mexico')\n",
      "(3, 'Antonio Moreno Taquería', 'Antonio Moreno', 'Mataderos 2312', 'México D.F.', '05023', 'Mexico')\n",
      "(4, 'Around the Horn', 'Thomas Hardy', '120 Hanover Sq.', 'London', 'WA1 1DP', 'UK')\n",
      "(5, 'Berglunds snabbköp', 'Christina Berglund', 'Berguvsvägen 8', 'Luleå', 'S-958 22', 'Sweden')\n",
      "(6, 'Blauer See Delikatessen', 'Hanna Moos', 'Forsterstr. 57', 'Mannheim', '68306', 'Germany')\n"
     ]
    }
   ],
   "source": [
    "# SQL Comments\n",
    "sql_command = \"\"\"/*Select all the columns\n",
    "of all the records\n",
    "in the Customers table:*/\n",
    "SELECT * FROM Customers;\"\"\"\n",
    "execute_select_query(sql_command)"
   ]
  },
  {
   "cell_type": "markdown",
   "id": "e6c9a977-4b02-4f90-86c3-a85fd3bbbcb3",
   "metadata": {
    "jp-MarkdownHeadingCollapsed": true
   },
   "source": [
    "### connection close"
   ]
  },
  {
   "cell_type": "code",
   "execution_count": 161,
   "id": "2a9bd02a-b839-49c9-af1a-ff503b0beab7",
   "metadata": {},
   "outputs": [],
   "source": [
    "connection.close()"
   ]
  }
 ],
 "metadata": {
  "kernelspec": {
   "display_name": "Python 3 (ipykernel)",
   "language": "python",
   "name": "python3"
  },
  "language_info": {
   "codemirror_mode": {
    "name": "ipython",
    "version": 3
   },
   "file_extension": ".py",
   "mimetype": "text/x-python",
   "name": "python",
   "nbconvert_exporter": "python",
   "pygments_lexer": "ipython3",
   "version": "3.9.6"
  }
 },
 "nbformat": 4,
 "nbformat_minor": 5
}
