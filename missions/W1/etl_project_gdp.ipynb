{
 "cells": [
  {
   "cell_type": "markdown",
   "id": "b3f92219-9cb7-4084-bbb5-94d24bbd60b9",
   "metadata": {},
   "source": [
    "### import"
   ]
  },
  {
   "cell_type": "code",
   "execution_count": 380,
   "id": "e47bd245-4d64-43d2-972b-fdce080c0151",
   "metadata": {},
   "outputs": [],
   "source": [
    "import pandas as pd\n",
    "import requests\n",
    "import json\n",
    "from datetime import datetime\n",
    "from bs4 import BeautifulSoup\n",
    "from country_converter import CountryConverter\n",
    "from typing import List, Dict, Union\n",
    "import logging\n",
    "import os\n",
    "import sqlite3"
   ]
  },
  {
   "cell_type": "markdown",
   "id": "5fa17025-1cef-462e-a45b-3b1204651095",
   "metadata": {},
   "source": [
    "### Variable"
   ]
  },
  {
   "cell_type": "code",
   "execution_count": 308,
   "id": "9bfaa4b3-f299-434b-b49d-af20dd5152de",
   "metadata": {},
   "outputs": [],
   "source": [
    "\"\"\"\n",
    "Variable\n",
    "-----\n",
    "url : string\n",
    "    ETL 과정을 수행할 url 주소\n",
    "\n",
    "keys : list\n",
    "    데이터에 존재하는 Column 리스트\n",
    "\n",
    "default_store_path : string\n",
    "    Load 시 json 파일이 저장될 경로\n",
    "\n",
    "default_log_path : string\n",
    "    log가 저장될 경로\n",
    "\"\"\"\n",
    "url = \"https://en.wikipedia.org/wiki/List_of_countries_by_GDP_%28nominal%29\"\n",
    "keys = ['Country/Territory', 'IMFForecast', 'IMFYear', 'WorldBankEstimate', 'WorldBankYear',\n",
    "        'UnitedNationsEstimate', 'UniteNationsYear']\n",
    "default_store_path = '/Users/admin/Desktop/Softeer_DE/data/Countries_by_GDP.json'\n",
    "default_log_path = '/Users/admin/Desktop/Softeer_DE/log/etl_project_log.txt'"
   ]
  },
  {
   "cell_type": "markdown",
   "id": "98c69dfb-f933-48cd-a185-2e2409aeccd0",
   "metadata": {},
   "source": [
    "### log"
   ]
  },
  {
   "cell_type": "code",
   "execution_count": 323,
   "id": "448c1c9a-e80c-4719-bbb8-65b9f3d7418d",
   "metadata": {},
   "outputs": [],
   "source": [
    "\"\"\"\n",
    "Log Format\n",
    "-----\n",
    "Year-Monthname-Day-Hour-Minute-Second, {message}\n",
    "ex) 2025-07-09-15-06-30, Transform 완료\n",
    "\"\"\"\n",
    "logging.basicConfig(filename=default_log_path, level=logging.INFO,\n",
    "                    format=\"%(asctime)s, %(message)s\", \n",
    "                    datefmt=\"%Y-%m-%d-%H-%M-%S\", force=True)\n",
    "logger = logging.getLogger(__name__)"
   ]
  },
  {
   "cell_type": "markdown",
   "id": "cca8c254-d8f5-4774-8cc4-14210e8d609e",
   "metadata": {},
   "source": [
    "### Functions"
   ]
  },
  {
   "cell_type": "code",
   "execution_count": 367,
   "id": "9dda3166-b290-4d1e-8320-f56265f4605a",
   "metadata": {},
   "outputs": [],
   "source": [
    "def extract_data(\n",
    "    url:str\n",
    ") -> List[Dict[str, str]]:\n",
    "    \"\"\"\n",
    "    url(GDP Page)에 존재하는 테이블의 데이터를 추출하는 함수입니다.\n",
    "\n",
    "    Parameter\n",
    "    -----\n",
    "    url : string\n",
    "        추출하고자 하는 페이지의 url\n",
    "\n",
    "    Return\n",
    "    -----\n",
    "    List[Dict[str, str]]\n",
    "        딕셔너리 리스트 형태의 데이터를 반환\n",
    "    \"\"\"\n",
    "    try:\n",
    "        response = requests.get(url)\n",
    "        html = response.text\n",
    "        soup = BeautifulSoup(html, 'html.parser')\n",
    "        table = soup.find('table', {\"class\": 'wikitable'})\n",
    "        tbody = table.find('tbody')\n",
    "        rows = tbody.find_all('tr')\n",
    "\n",
    "        data = []\n",
    "        for row in rows:\n",
    "            data_row = []\n",
    "            cols = row.find_all(\"td\")\n",
    "            for col in cols:\n",
    "                text = col.text.strip()\n",
    "                if text == '—':\n",
    "                    data_row.append(None)\n",
    "                    data_row.append(None)\n",
    "                else:\n",
    "                    data_row.append(text)\n",
    "\n",
    "            data_row_dict = dict(zip(keys, data))\n",
    "            data.append(data_row_dict)\n",
    "\n",
    "        return data[2:]\n",
    "    except Exception as e:\n",
    "        raise Exception(f\"Extract failed: {e}\")"
   ]
  },
  {
   "cell_type": "code",
   "execution_count": 368,
   "id": "1429db31-89ae-4fb8-aa91-09bdd7305e9e",
   "metadata": {},
   "outputs": [],
   "source": [
    "def transform_data(\n",
    "    data:List[Dict[str, str]]\n",
    ") -> List[Dict[str, Union[str, int, float]]]:\n",
    "    \"\"\"\n",
    "    data를 입력 받아 분석을 위해 전처리하는 함수입니다.\n",
    "\n",
    "    Parameter\n",
    "    -----\n",
    "    data : List[Dict[str, str]]\n",
    "        전처리 과정을 수행할 딕셔너리 리스트\n",
    "\n",
    "    Return\n",
    "    -----\n",
    "    List[Dict[str, Union[str, int, float]]]\n",
    "        value가 type에 맞게 변환된 딕셔너리 리스트 반환\n",
    "    \"\"\"\n",
    "    try:\n",
    "        data = pd.DataFrame(data_list[1:])\n",
    "        data = data[['Country/Territory', 'IMFForecast', 'IMFYear']]\n",
    "        for k in ['IMFForecast', 'IMFYear']:\n",
    "            data[k] = data[k].apply(\n",
    "                lambda x: x[x.index(']') + 1:] if isinstance(x, str) and ']' in x else x\n",
    "            )\n",
    "            if data[k].dtypes == 'object':\n",
    "                data[k] = data[k].apply(\n",
    "                    lambda x: int(x.replace(',', '')) if x is not None else x\n",
    "                )\n",
    "                data[k] = data[k].astype('Int64')\n",
    "                if k == 'IMFForecast':\n",
    "                    data[k] = round(data[k] / 1000 - 0.005, 2)\n",
    "    \n",
    "        cc = CountryConverter()\n",
    "        data['region'] = cc.pandas_convert(series=data['Country/Territory'], to='continent')\n",
    "    \n",
    "        return data\n",
    "    except Exception as e:\n",
    "        raise Exception(f\"Transform failed: {e}\")"
   ]
  },
  {
   "cell_type": "code",
   "execution_count": 369,
   "id": "2751f203-3b54-4621-9e3a-f626f86ab152",
   "metadata": {},
   "outputs": [],
   "source": [
    "def load_data(\n",
    "    data: Dict[str, Union[str, int, float]],\n",
    "    file_name: str = default_store_path\n",
    ") -> None:\n",
    "    \"\"\"\n",
    "    data를 json 형태로 저장하는 함수입니다.\n",
    "\n",
    "    Parameter\n",
    "    -----\n",
    "    data : List[Dict[str, Union[str, int, float]]]\n",
    "        json 형태로 저장할 딕셔너리 리스트\n",
    "\n",
    "    Return\n",
    "    -----\n",
    "    None\n",
    "        json 형태로 저장 과정만 수행\n",
    "    \"\"\"\n",
    "    data.to_json(file_name, orient='records')"
   ]
  },
  {
   "cell_type": "code",
   "execution_count": 378,
   "id": "0546a7c2-4a83-4366-9153-e7313cc1aba3",
   "metadata": {},
   "outputs": [],
   "source": [
    "def print_country_over_100B(\n",
    "    data: Dict[str, Union[str, int, float]]\n",
    ") -> None:\n",
    "    \"\"\"\n",
    "    data의 IMFForecast 컬럼의 값이 100이 넘는 나라를 내림차순으로 정렬해 출력합니다.\n",
    "\n",
    "    Parameter\n",
    "    -----\n",
    "    data : List[Dict[str, Union[str, int, float]]]\n",
    "        전처리가 완료된 딕셔너리 리스트\n",
    "\n",
    "    Return\n",
    "    -----\n",
    "    None\n",
    "    \"\"\"\n",
    "    over_100B = data[data['IMFForecast'] >= 100].sort_values('IMFForecast', ascending=False)\n",
    "    print('Country for Higher Than 100B of GCP')\n",
    "    print(over_100B['Country/Territory'])"
   ]
  },
  {
   "cell_type": "code",
   "execution_count": 379,
   "id": "196762ba-f6b8-4bca-8eda-d10da22cb02a",
   "metadata": {},
   "outputs": [],
   "source": [
    "def print_mean_of_top5(\n",
    "    data: Dict[str, Union[str, int, float]]\n",
    ") -> None:\n",
    "    \"\"\"\n",
    "    data의 region 기준으로 상위 5개 나라의 평균을 내림차순으로 정렬해 출력합니다.\n",
    "\n",
    "    Parameter\n",
    "    -----\n",
    "    data : List[Dict[str, Union[str, int, float]]]\n",
    "        전처리가 완료된 딕셔너리 리스트\n",
    "\n",
    "    Return\n",
    "    -----\n",
    "    None\n",
    "    \"\"\"\n",
    "    region = data['region'].unique()\n",
    "    for r in region:\n",
    "        if r == 'not found':\n",
    "            continue\n",
    "        \n",
    "        GDP_top_5_for_region = data[data['region'] == r].sort_values('IMFForecast', ascending=False)[:5]\n",
    "        GDP_top_5_for_region = GDP_top_5_for_region['IMFForecast']\n",
    "        print(f'region : {r}')\n",
    "        print(f'GDP Mean (Top 5) : {round(GDP_top_5_for_region.mean(), 2)}')\n",
    "        print()"
   ]
  },
  {
   "cell_type": "markdown",
   "id": "7039b31f-edee-4e6c-a351-ded05e10a1ea",
   "metadata": {},
   "source": [
    "### Execute ETL"
   ]
  },
  {
   "cell_type": "code",
   "execution_count": 373,
   "id": "ff73752b-3d8f-4f21-bcfa-72af23c48115",
   "metadata": {
    "scrolled": true
   },
   "outputs": [],
   "source": [
    "logger.info('Extract 시작')\n",
    "extracted_data = extract_data(url)\n",
    "logger.info('Extract 완료')"
   ]
  },
  {
   "cell_type": "code",
   "execution_count": 374,
   "id": "abf6811a-6640-4d7b-bcf7-1a776a0caefe",
   "metadata": {},
   "outputs": [],
   "source": [
    "logger.info('Transform 시작')\n",
    "transformed_data = transform_data(extracted_data)\n",
    "logger.info('Transform 완료')"
   ]
  },
  {
   "cell_type": "code",
   "execution_count": 375,
   "id": "b41d69ba-7326-4943-bdc9-c49091a1b366",
   "metadata": {},
   "outputs": [],
   "source": [
    "logger.info('Load 시작')\n",
    "load_data(transformed_data)\n",
    "logger.info('Load 종료')"
   ]
  },
  {
   "cell_type": "markdown",
   "id": "a79fcda7-9f45-408c-b519-f3adb156bfa5",
   "metadata": {},
   "source": [
    "### Print GDP\n",
    "- IMF에서 제공하는 GDP를 기반으로 수행\n",
    "1. GDP가 100B USD 이상인 국가 출력\n",
    "2. Region별 top5 국가의 GDP 평균 출력"
   ]
  },
  {
   "cell_type": "code",
   "execution_count": 376,
   "id": "ff0b4783-e9db-4db4-8bac-3850e68895d8",
   "metadata": {},
   "outputs": [
    {
     "name": "stdout",
     "output_type": "stream",
     "text": [
      "Country for Higher Than 100B of GCP\n",
      "0     United States\n",
      "1             China\n",
      "2           Germany\n",
      "3             India\n",
      "4             Japan\n",
      "          ...      \n",
      "69         Bulgaria\n",
      "70           Angola\n",
      "71        Venezuela\n",
      "72             Oman\n",
      "73       Costa Rica\n",
      "Name: Country/Territory, Length: 72, dtype: object\n"
     ]
    }
   ],
   "source": [
    "# GDP가 100B USD 이상인 국가 출력\n",
    "print_country_over_100B(transformed_data)"
   ]
  },
  {
   "cell_type": "code",
   "execution_count": 377,
   "id": "c725ef72-5470-42c8-ac48-9540eb053cfc",
   "metadata": {
    "scrolled": true
   },
   "outputs": [
    {
     "name": "stdout",
     "output_type": "stream",
     "text": [
      "region : America\n",
      "GDP Mean (Top 5) : 7446.93\n",
      "\n",
      "region : Asia\n",
      "GDP Mean (Top 5) : 6166.57\n",
      "\n",
      "region : Europe\n",
      "GDP Mean (Top 5) : 3258.9\n",
      "\n",
      "region : Oceania\n",
      "GDP Mean (Top 5) : 412.26\n",
      "\n",
      "region : Africa\n",
      "GDP Mean (Top 5) : 276.13\n",
      "\n"
     ]
    }
   ],
   "source": [
    "# Region별 top5 국가의 GDP 평균 출력\n",
    "print_mean_of_top5(transformed_data)"
   ]
  }
 ],
 "metadata": {
  "kernelspec": {
   "display_name": ".venv",
   "language": "python",
   "name": ".venv"
  },
  "language_info": {
   "codemirror_mode": {
    "name": "ipython",
    "version": 3
   },
   "file_extension": ".py",
   "mimetype": "text/x-python",
   "name": "python",
   "nbconvert_exporter": "python",
   "pygments_lexer": "ipython3",
   "version": "3.9.6"
  }
 },
 "nbformat": 4,
 "nbformat_minor": 5
}
